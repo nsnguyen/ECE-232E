{
 "cells": [
  {
   "cell_type": "code",
   "execution_count": 14,
   "metadata": {},
   "outputs": [],
   "source": [
    "library(igraph)\n",
    "library(ggplot2)"
   ]
  },
  {
   "cell_type": "code",
   "execution_count": 15,
   "metadata": {},
   "outputs": [],
   "source": [
    "facebook_data_path = \"/Users/nnguyen/Documents/_Dev/ECE-232E/project_2/facebook_combined.txt\"\n",
    "\n",
    "\n"
   ]
  },
  {
   "cell_type": "code",
   "execution_count": null,
   "metadata": {
    "scrolled": false
   },
   "outputs": [
    {
     "name": "stdout",
     "output_type": "stream",
     "text": [
      "[1] \"Question 1 - Connected: TRUE\"\n"
     ]
    }
   ],
   "source": [
    "# question 1\n",
    "\n",
    "facebook_graph = read_graph(facebook_data_path, directed=F)\n",
    "\n",
    "fb_el = as_edgelist(facebook_graph)\n",
    "facebook_edgelist_graph = graph_from_edgelist(fb_el, directed=F)\n",
    "\n",
    "print(paste('Question 1 - Connected:',is_connected(facebook_edgelist_graph)))\n",
    "plot(facebook_edgelist_graph, vertex.size=5, vertex.label=NA, edge.arrow.size=.5, main=paste(\"Graph from Edgelist\",collapse=\"\"))\n",
    "\n",
    "print(paste('Question 2 - diameter:', diameter(facebook_edgelist_graph)))\n",
    "\n",
    "unique_degrees = unique(sort(degree(facebook_edgelist_graph)))\n",
    "if (unique_degrees[1]!=0) {\n",
    "    unique_degrees = seq(0,max(unique_degrees))\n",
    "}\n",
    "dd = degree_distribution(facebook_edgelist_graph)\n",
    "\n",
    "print(paste('Question 3 - average degree: ',mean(unique_degrees)))\n",
    "\n",
    "plot(unique_degrees, dd,main=\"Degree distribution\",xlab=\"Degree\",ylab=\"Frequency\")\n",
    "\n",
    "log_degree = log(c(1:length(degree.distribution(facebook_edgelist_graph))))\n",
    "log_distr = log(degree.distribution(facebook_edgelist_graph))\n",
    "plot(log_degree, log_distr, main=\"Degree distribution(log scale)\",xlab=\"Degree(log)\",ylab=\"Frequency(log)\")\n",
    "\n",
    "\n",
    "\n"
   ]
  },
  {
   "cell_type": "code",
   "execution_count": null,
   "metadata": {},
   "outputs": [],
   "source": [
    "induced_g1_graph = induced_subgraph(facebook_edgelist_graph, c(1,neighbors(facebook_graph,1)))\n",
    "plot(induced_g1_graph, edge.arrow.size=.1, vertex.size=4, vertex.label=NA)\n",
    "\n",
    "print(paste('Question 5 - node counts:',vcount(induced_g1_graph)))\n",
    "print(paste('Question 5 - edge counts:', ecount(induced_g1_graph)))\n",
    "\n",
    "print(paste('Question 6 - Diameter:', diameter(induced_g1_graph)))\n",
    "\n",
    "\n"
   ]
  },
  {
   "cell_type": "code",
   "execution_count": null,
   "metadata": {},
   "outputs": [],
   "source": [
    "# question 8\n",
    "\n",
    "# find indices of core nodes\n",
    "core_index = which(neighborhood.size(facebook_graph,1,nodes=V(facebook_graph))>200)\n",
    "avg_core_deg = mean(degree(facebook_graph, v=V(facebook_graph)[core_index]))\n",
    "\n",
    "print(paste('Question 8 - No. of core nodes:', length(core_index)))\n",
    "print(paste('Question 8 - average degree:', avg_core_deg))\n",
    "\n"
   ]
  },
  {
   "cell_type": "code",
   "execution_count": null,
   "metadata": {},
   "outputs": [],
   "source": []
  },
  {
   "cell_type": "code",
   "execution_count": null,
   "metadata": {
    "scrolled": false
   },
   "outputs": [],
   "source": [
    "node_ids = c(1,108,349,484,1087)\n",
    "# http://igraph.org/r/doc/ego.html\n",
    "ego_graph = make_ego_graph(facebook_edgelist_graph, 1, nodes=V(facebook_edgelist_graph)[node_ids])\n",
    "\n",
    "\n",
    "for (i in 1:length(node_ids)){\n",
    "    print(paste('Node Id:', node_ids[i]))\n",
    "    \n",
    "    # fast greedy\n",
    "    fast_greedy = cluster_fast_greedy(ego_graph[[i]])\n",
    "    print(paste('Question 9 - Fast Greedy Modularity:', modularity(fast_greedy)))\n",
    "    \n",
    "    plot(ego_graph[[i]], mark.groups=groups(fast_greedy), edge.arrow.size=.5, \n",
    "         vertex.color=(fast_greedy$membership), vertex.size=5, vertex.label=NA, \n",
    "    main=paste(\"Fast-Greedy, core node \",node_ids[i]))\n",
    "    \n",
    "    # 2 Edge-Betweenness\n",
    "    cluster_edge_betweenness = cluster_edge_betweenness(ego_graph[[i]])    \n",
    "    print(paste('Question 9 - Edge Betweenness Modularity:', modularity(cluster_edge_betweenness)))\n",
    "    \n",
    "    plot(ego_graph[[i]], mark.groups=groups(cluster_edge_betweenness), edge.arrow.size=.5, \n",
    "         vertex.color=(cluster_edge_betweenness$membership), vertex.size=5, vertex.label=NA, \n",
    "    main=paste(\"Edge Betweenness, core node \",node_ids[i]))\n",
    "    \n",
    "    # 3 Infomap\n",
    "    info_map = cluster_infomap(ego_graph[[i]])    \n",
    "    print(paste('Question 9 - Edge Betweenness Modularity:', modularity(info_map)))\n",
    "    \n",
    "    plot(ego_graph[[i]], mark.groups=groups(info_map), edge.arrow.size=.5, \n",
    "         vertex.color=(info_map$membership), vertex.size=5, vertex.label=NA, \n",
    "    main=paste(\"InfoMap, core node \",node_ids[i]))\n",
    "        \n",
    "}\n",
    "\n"
   ]
  },
  {
   "cell_type": "code",
   "execution_count": null,
   "metadata": {},
   "outputs": [],
   "source": [
    "node_ids = c(1,108,349,484,1087)\n",
    "\n",
    "#using induced for personlized graph..\n",
    "for (i in 1:length(node_ids)){\n",
    "    induced_graph = induced_subgraph(facebook_edgelist_graph, neighbors(facebook_edgelist_graph, node_ids[i]))\n",
    "    \n",
    "    print(paste('Node Id:', node_ids[i]))\n",
    "    \n",
    "    # fast greedy\n",
    "    fast_greedy = cluster_fast_greedy(induced_graph)\n",
    "    print(paste('Question 10 - Fast Greedy Modularity:', modularity(fast_greedy)))\n",
    "    \n",
    "    plot(induced_graph, mark.groups=groups(fast_greedy), edge.arrow.size=.5, \n",
    "         vertex.color=(fast_greedy$membership), vertex.size=5, vertex.label=NA, \n",
    "    main=paste(\"Fast-Greedy, core node \",node_ids[i]))\n",
    "    \n",
    "    # 2 Edge-Betweenness\n",
    "    cluster_edge_betweenness = cluster_edge_betweenness(induced_graph)    \n",
    "    print(paste('Question 10 - Edge Betweenness Modularity:', modularity(cluster_edge_betweenness)))\n",
    "    \n",
    "    plot(induced_graph, mark.groups=groups(cluster_edge_betweenness), edge.arrow.size=.5, \n",
    "         vertex.color=(cluster_edge_betweenness$membership), vertex.size=5, vertex.label=NA, \n",
    "    main=paste(\"Edge Betweenness, core node \",node_ids[i]))\n",
    "    \n",
    "    # 3 Infomap\n",
    "    info_map = cluster_infomap(induced_graph)    \n",
    "    print(paste('Question 10 - Edge Betweenness Modularity:', modularity(info_map)))\n",
    "    \n",
    "    plot(induced_graph, mark.groups=groups(info_map), edge.arrow.size=.5, \n",
    "         vertex.color=(info_map$membership), vertex.size=5, vertex.label=NA, \n",
    "    main=paste(\"InfoMap, core node \",node_ids[i]))\n",
    "        \n",
    "}\n",
    "\n"
   ]
  },
  {
   "cell_type": "code",
   "execution_count": null,
   "metadata": {},
   "outputs": [],
   "source": []
  },
  {
   "cell_type": "code",
   "execution_count": null,
   "metadata": {},
   "outputs": [],
   "source": []
  },
  {
   "cell_type": "code",
   "execution_count": null,
   "metadata": {},
   "outputs": [],
   "source": []
  },
  {
   "cell_type": "code",
   "execution_count": null,
   "metadata": {},
   "outputs": [],
   "source": []
  },
  {
   "cell_type": "code",
   "execution_count": null,
   "metadata": {},
   "outputs": [],
   "source": []
  },
  {
   "cell_type": "code",
   "execution_count": null,
   "metadata": {},
   "outputs": [],
   "source": []
  },
  {
   "cell_type": "code",
   "execution_count": null,
   "metadata": {},
   "outputs": [],
   "source": []
  },
  {
   "cell_type": "code",
   "execution_count": null,
   "metadata": {},
   "outputs": [],
   "source": []
  },
  {
   "cell_type": "code",
   "execution_count": null,
   "metadata": {},
   "outputs": [],
   "source": []
  },
  {
   "cell_type": "code",
   "execution_count": null,
   "metadata": {},
   "outputs": [],
   "source": []
  },
  {
   "cell_type": "code",
   "execution_count": null,
   "metadata": {},
   "outputs": [],
   "source": []
  },
  {
   "cell_type": "code",
   "execution_count": null,
   "metadata": {},
   "outputs": [],
   "source": []
  }
 ],
 "metadata": {
  "kernelspec": {
   "display_name": "R",
   "language": "R",
   "name": "ir"
  },
  "language_info": {
   "codemirror_mode": "r",
   "file_extension": ".r",
   "mimetype": "text/x-r-source",
   "name": "R",
   "pygments_lexer": "r",
   "version": "3.4.3"
  }
 },
 "nbformat": 4,
 "nbformat_minor": 2
}
