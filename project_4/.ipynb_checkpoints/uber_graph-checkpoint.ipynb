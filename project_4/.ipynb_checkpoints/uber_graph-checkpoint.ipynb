{
 "cells": [
  {
   "cell_type": "code",
   "execution_count": 1,
   "metadata": {},
   "outputs": [
    {
     "name": "stderr",
     "output_type": "stream",
     "text": [
      "\n",
      "Attaching package: ‘igraph’\n",
      "\n",
      "The following objects are masked from ‘package:stats’:\n",
      "\n",
      "    decompose, spectrum\n",
      "\n",
      "The following object is masked from ‘package:base’:\n",
      "\n",
      "    union\n",
      "\n"
     ]
    }
   ],
   "source": [
    "library('igraph')"
   ]
  },
  {
   "cell_type": "code",
   "execution_count": 40,
   "metadata": {},
   "outputs": [
    {
     "data": {
      "text/plain": [
       "[[1]]\n",
       "IGRAPH b063c4c UNW- 1898 321703 -- \n",
       "+ attr: name (v/c), weight (e/n)\n",
       "+ edges from b063c4c (vertex names):\n",
       " [1] 73  --1982 1523--2213 433 --438  333 --448  315 --2231 605 --2202\n",
       " [7] 125 --2250 1728--1762 1748--1760 1743--1918 1750--1848 1648--1770\n",
       "[13] 1538--1781 1690--2448 1691--2438 97  --624  83  --764  87  --724 \n",
       "[19] 77  --824  2117--2344 1527--2403 2312--2437 64  --954  964 --1499\n",
       "[25] 98  --614  1047--2451 91  --684  2157--2340 76  --834  2315--2407\n",
       "[31] 2691--2694 1087--2349 1097--2348 2209--2487 918 --2408 937 --2218\n",
       "[37] 927 --2318 275 --808  175 --818  195 --816  917 --2490 91  --675 \n",
       "[43] 81  --676  61  --678  1417--2022 309 --2233 403 --1293 315 --2173\n",
       "+ ... omitted several edges\n"
      ]
     },
     "metadata": {},
     "output_type": "display_data"
    }
   ],
   "source": [
    "uber_graph = read_graph('december_data.csv',format='ncol',directed=FALSE)\n",
    "components = decompose(uber_graph,min.vertices=10)\n",
    "components"
   ]
  },
  {
   "cell_type": "code",
   "execution_count": 41,
   "metadata": {
    "collapsed": true
   },
   "outputs": [],
   "source": [
    "# Because there's only one component with more than 10 vertices, this is probably the GCC\n",
    "uber_gcc = components[[1]]"
   ]
  },
  {
   "cell_type": "code",
   "execution_count": 45,
   "metadata": {},
   "outputs": [
    {
     "name": "stdout",
     "output_type": "stream",
     "text": [
      "[1] 1898\n",
      "[1] 1905\n",
      "[1] \"We can see 7 nodes were removed\"\n"
     ]
    }
   ],
   "source": [
    "print(vcount(uber_gcc))\n",
    "print(vcount(uber_graph))\n",
    "print(\"We can see 7 nodes were removed\")"
   ]
  },
  {
   "cell_type": "code",
   "execution_count": 46,
   "metadata": {
    "collapsed": true
   },
   "outputs": [],
   "source": [
    "# Write the graph to file\n",
    "write_graph(uber_gcc,'uber_gcc.txt',format=\"ncol\")"
   ]
  },
  {
   "cell_type": "code",
   "execution_count": null,
   "metadata": {
    "collapsed": true
   },
   "outputs": [],
   "source": []
  }
 ],
 "metadata": {
  "kernelspec": {
   "display_name": "R",
   "language": "R",
   "name": "ir"
  },
  "language_info": {
   "codemirror_mode": "r",
   "file_extension": ".r",
   "mimetype": "text/x-r-source",
   "name": "R",
   "pygments_lexer": "r",
   "version": "3.3.2"
  }
 },
 "nbformat": 4,
 "nbformat_minor": 2
}
