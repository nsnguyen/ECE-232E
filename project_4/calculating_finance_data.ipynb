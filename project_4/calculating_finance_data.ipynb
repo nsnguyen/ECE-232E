{
 "cells": [
  {
   "cell_type": "code",
   "execution_count": 1,
   "metadata": {},
   "outputs": [],
   "source": [
    "import os\n",
    "import pandas as pd\n",
    "import math\n",
    "import numpy as np\n",
    "from itertools import combinations\n",
    "\n"
   ]
  },
  {
   "cell_type": "code",
   "execution_count": 15,
   "metadata": {
    "scrolled": false
   },
   "outputs": [],
   "source": [
    "# directory = os.path.abspath(\"finance_data/data/\")\n",
    "\n",
    "# ticket_names = []\n",
    "# ticket_hash = {}\n",
    "# for file in os.listdir(directory):\n",
    "#     if file.endswith('.csv'):\n",
    "#         ticket_name = os.path.splitext(file)[0]\n",
    "#         ticket_names.append(ticket_name)\n",
    "#         df = pd.read_csv(directory + \"/\" + file)\n",
    "        \n",
    "#         # we want to calculate q and r for each ticket\n",
    "#         q = (df.sort_values(by=['Date']).Close.diff() / df.sort_values(by=['Date']).Close.shift()).dropna()\n",
    "#         r = q.apply(lambda x: math.log(1+x))\n",
    "#         temp = {}\n",
    "#         temp['q'] = q\n",
    "#         temp['r'] = r\n",
    "#         ticket_hash[ticket_name] = temp\n",
    "    \n",
    "# ticket_names = [os.path.splitext(filename)[0] for filename in os.listdir(directory) if filename.endswith('.csv')]\n",
    "# ticket_combinations = [comb for comb in combinations(ticket_names, 2)]\n",
    "\n",
    "\n",
    "# with open(directory + \"/\" + \"correlation.txt\", \"w\") as correlation_file:\n",
    "#     for combination in ticket_combinations:\n",
    "#         #TODO: need to look into this pair (KHC, PYPL)\n",
    "#         # for now.. let's ignore it because it's causing weird issue.\n",
    "#         if ticket_names[i] == 'KHC' and ticket_names[j] == 'PYPL':\n",
    "#             continue\n",
    "        \n",
    "#         r_i = ticket_hash[combination[0]]['r'] #get value from this ticket\n",
    "#         r_j = ticket_hash[combination[1]]['r'] # get value from this ticket\n",
    "#         if len(r_i) == len(r_j): #only looking at same length for both tickets\n",
    "#             n = len(r_i)\n",
    "#             numerator = np.mean(np.multiply(r_i,r_j)) - np.mean(r_i)*np.mean(r_j)\n",
    "#             denomiator = np.sqrt( (np.mean( np.square(r_i) ) - np.mean(r_i)**2) * (np.mean( np.square ( r_j ) ) - np.mean(r_j) **2) )\n",
    "#             ro_i_j = numerator / denomiator\n",
    "#             w_i_j = math.sqrt(2*(1-ro_i_j))\n",
    "#             correlation_file.write('{} {} {}\\n'.format(combination[0], combination[1], w_i_j))\n",
    "            \n"
   ]
  },
  {
   "cell_type": "code",
   "execution_count": 17,
   "metadata": {},
   "outputs": [],
   "source": [
    "directory = os.path.abspath(\"finance_data/data/\")\n",
    "\n",
    "ticket_names = []\n",
    "ticket_hash = {}\n",
    "for file in os.listdir(directory):\n",
    "    if file.endswith('.csv'):\n",
    "        ticket_name = os.path.splitext(file)[0]\n",
    "        ticket_names.append(ticket_name)\n",
    "        df = pd.read_csv(directory + \"/\" + file)\n",
    "        \n",
    "        # we want to calculate q and r for each ticket\n",
    "        q = (df.sort_values(by=['Date']).Close.diff() / df.sort_values(by=['Date']).Close.shift()).dropna()\n",
    "        r = q.apply(lambda x: math.log(1+x))\n",
    "        temp = {}\n",
    "        temp['q'] = q\n",
    "        temp['r'] = r\n",
    "        ticket_hash[ticket_name] = temp\n",
    "    \n",
    "ticket_names = [os.path.splitext(filename)[0] for filename in os.listdir(directory) if filename.endswith('.csv')]\n",
    "# ticket_combinations = [comb for comb in combinations(ticket_names, 2)]\n",
    "\n",
    "\n",
    "with open(directory + \"/\" + \"correlation.txt\", \"w\") as correlation_file:\n",
    "    for i in range(len(ticket_names)):\n",
    "        for j in range(i+1, len(ticket_names)):\n",
    "            r_i = ticket_hash[ticket_names[i]]['r'] #get value from this ticket\n",
    "            r_j = ticket_hash[ticket_names[j]]['r'] # get value from this ticket\n",
    "            \n",
    "            #TODO: need to look into this pair (KHC, PYPL)\n",
    "            # for now.. let's ignore it because it's causing weird issue.\n",
    "            if ticket_names[i] == 'KHC' and ticket_names[j] == 'PYPL':\n",
    "                continue\n",
    "            \n",
    "            if len(r_i) == len(r_j): #only looking at same length for both tickets\n",
    "                n = len(r_i)\n",
    "                numerator = np.mean(np.multiply(r_i,r_j)) - np.mean(r_i)*np.mean(r_j)\n",
    "                denomiator = np.sqrt( (np.mean( np.square(r_i) ) - np.mean(r_i)**2) * (np.mean( np.square ( r_j ) ) - np.mean(r_j) **2) )\n",
    "                ro_i_j = numerator / denomiator\n",
    "                w_i_j = math.sqrt(2*(1-ro_i_j))\n",
    "                correlation_file.write('{} {} {}\\n'.format(ticket_names[i], ticket_names[j], w_i_j))\n",
    "\n"
   ]
  },
  {
   "cell_type": "code",
   "execution_count": null,
   "metadata": {},
   "outputs": [],
   "source": []
  },
  {
   "cell_type": "code",
   "execution_count": null,
   "metadata": {},
   "outputs": [],
   "source": []
  }
 ],
 "metadata": {
  "kernelspec": {
   "display_name": "Python 3",
   "language": "python",
   "name": "python3"
  },
  "language_info": {
   "codemirror_mode": {
    "name": "ipython",
    "version": 3
   },
   "file_extension": ".py",
   "mimetype": "text/x-python",
   "name": "python",
   "nbconvert_exporter": "python",
   "pygments_lexer": "ipython3",
   "version": "3.6.5"
  }
 },
 "nbformat": 4,
 "nbformat_minor": 2
}
