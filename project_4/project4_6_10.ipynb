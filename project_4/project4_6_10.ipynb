{
 "cells": [
  {
   "cell_type": "code",
   "execution_count": 4,
   "metadata": {},
   "outputs": [
    {
     "name": "stdout",
     "output_type": "stream",
     "text": [
      "\n",
      "  There is a binary version available but the source version is later:\n",
      "      binary source needs_compilation\n",
      "rjson 0.2.15 0.2.20              TRUE\n",
      "\n",
      "  Binaries will be installed\n",
      "package 'rjson' successfully unpacked and MD5 sums checked\n",
      "\n",
      "The downloaded binary packages are in\n",
      "\tC:\\Users\\jenni\\AppData\\Local\\Temp\\RtmpwllL94\\downloaded_packages\n"
     ]
    }
   ],
   "source": [
    "#get list of installed packages\n",
    "inst_packages <-  installed.packages()\n",
    "\n",
    "if (\"rjson\" %in% inst_packages[, 1]) { \n",
    "     #uninstalls package\n",
    "     remove.packages(\"rjson\")\n",
    "     #re-installs package\n",
    "     install.packages(\"rjson\", repos='http://cran.us.r-project.org') \n",
    "} else {\n",
    "    install.packages(\"rjson\", repos='http://cran.us.r-project.org') \n",
    "}"
   ]
  },
  {
   "cell_type": "code",
   "execution_count": 5,
   "metadata": {
    "collapsed": true
   },
   "outputs": [],
   "source": [
    "library(\"rjson\")\n",
    "library(\"igraph\")"
   ]
  },
  {
   "cell_type": "code",
   "execution_count": 20,
   "metadata": {
    "collapsed": true
   },
   "outputs": [],
   "source": [
    "uber_sf_travel = read.table('san_francisco-censustracts-2017-4-All-MonthlyAggregate.csv', header=TRUE, sep=',')"
   ]
  },
  {
   "cell_type": "code",
   "execution_count": 21,
   "metadata": {},
   "outputs": [
    {
     "data": {
      "text/html": [
       "<table>\n",
       "<thead><tr><th scope=col>sourceid</th><th scope=col>dstid</th><th scope=col>month</th><th scope=col>mean_travel_time</th><th scope=col>standard_deviation_travel_time</th><th scope=col>geometric_mean_travel_time</th><th scope=col>geometric_standard_deviation_travel_time</th></tr></thead>\n",
       "<tbody>\n",
       "\t<tr><td>1982   </td><td>  73   </td><td>12     </td><td> 350.59</td><td>230.08 </td><td> 311.46</td><td>1.56   </td></tr>\n",
       "\t<tr><td>2213   </td><td>1523   </td><td>12     </td><td> 872.92</td><td>383.89 </td><td> 803.50</td><td>1.49   </td></tr>\n",
       "\t<tr><td> 438   </td><td> 433   </td><td>12     </td><td>2262.35</td><td>919.08 </td><td>2144.34</td><td>1.35   </td></tr>\n",
       "\t<tr><td> 448   </td><td> 333   </td><td>12     </td><td>1337.10</td><td>431.10 </td><td>1277.05</td><td>1.35   </td></tr>\n",
       "\t<tr><td>1044   </td><td>1015   </td><td>10     </td><td> 690.68</td><td>282.61 </td><td> 634.03</td><td>1.58   </td></tr>\n",
       "\t<tr><td>1043   </td><td>1025   </td><td>10     </td><td>1657.58</td><td>487.12 </td><td>1600.12</td><td>1.29   </td></tr>\n",
       "</tbody>\n",
       "</table>\n"
      ],
      "text/latex": [
       "\\begin{tabular}{r|lllllll}\n",
       " sourceid & dstid & month & mean\\_travel\\_time & standard\\_deviation\\_travel\\_time & geometric\\_mean\\_travel\\_time & geometric\\_standard\\_deviation\\_travel\\_time\\\\\n",
       "\\hline\n",
       "\t 1982    &   73    & 12      &  350.59 & 230.08  &  311.46 & 1.56   \\\\\n",
       "\t 2213    & 1523    & 12      &  872.92 & 383.89  &  803.50 & 1.49   \\\\\n",
       "\t  438    &  433    & 12      & 2262.35 & 919.08  & 2144.34 & 1.35   \\\\\n",
       "\t  448    &  333    & 12      & 1337.10 & 431.10  & 1277.05 & 1.35   \\\\\n",
       "\t 1044    & 1015    & 10      &  690.68 & 282.61  &  634.03 & 1.58   \\\\\n",
       "\t 1043    & 1025    & 10      & 1657.58 & 487.12  & 1600.12 & 1.29   \\\\\n",
       "\\end{tabular}\n"
      ],
      "text/markdown": [
       "\n",
       "sourceid | dstid | month | mean_travel_time | standard_deviation_travel_time | geometric_mean_travel_time | geometric_standard_deviation_travel_time | \n",
       "|---|---|---|---|---|---|\n",
       "| 1982    |   73    | 12      |  350.59 | 230.08  |  311.46 | 1.56    | \n",
       "| 2213    | 1523    | 12      |  872.92 | 383.89  |  803.50 | 1.49    | \n",
       "|  438    |  433    | 12      | 2262.35 | 919.08  | 2144.34 | 1.35    | \n",
       "|  448    |  333    | 12      | 1337.10 | 431.10  | 1277.05 | 1.35    | \n",
       "| 1044    | 1015    | 10      |  690.68 | 282.61  |  634.03 | 1.58    | \n",
       "| 1043    | 1025    | 10      | 1657.58 | 487.12  | 1600.12 | 1.29    | \n",
       "\n",
       "\n"
      ],
      "text/plain": [
       "  sourceid dstid month mean_travel_time standard_deviation_travel_time\n",
       "1 1982       73  12     350.59          230.08                        \n",
       "2 2213     1523  12     872.92          383.89                        \n",
       "3  438      433  12    2262.35          919.08                        \n",
       "4  448      333  12    1337.10          431.10                        \n",
       "5 1044     1015  10     690.68          282.61                        \n",
       "6 1043     1025  10    1657.58          487.12                        \n",
       "  geometric_mean_travel_time geometric_standard_deviation_travel_time\n",
       "1  311.46                    1.56                                    \n",
       "2  803.50                    1.49                                    \n",
       "3 2144.34                    1.35                                    \n",
       "4 1277.05                    1.35                                    \n",
       "5  634.03                    1.58                                    \n",
       "6 1600.12                    1.29                                    "
      ]
     },
     "metadata": {},
     "output_type": "display_data"
    }
   ],
   "source": [
    "head(uber_sf_travel)"
   ]
  },
  {
   "cell_type": "code",
   "execution_count": 6,
   "metadata": {
    "collapsed": true
   },
   "outputs": [],
   "source": [
    "uber_sf_geo = fromJSON(file = \"san_francisco_censustracts.json\")\n",
    "uber_sf_geo_df = as.data.frame(uber_sf_geo)"
   ]
  },
  {
   "cell_type": "code",
   "execution_count": 8,
   "metadata": {},
   "outputs": [
    {
     "data": {
      "text/html": [
       "<table>\n",
       "<thead><tr><th scope=col>type</th><th scope=col>features.type</th><th scope=col>features.properties.MOVEMENT_ID</th><th scope=col>features.properties.DISPLAY_NAME</th><th scope=col>features.geometry.type</th><th scope=col>features.geometry.coordinates.c..121.595108..36.111261.</th><th scope=col>features.geometry.coordinates.c..121.540189..36.111498.</th><th scope=col>features.geometry.coordinates.c..121.500954..36.111686.</th><th scope=col>features.geometry.coordinates.c..121.501011..36.112702.</th><th scope=col>features.geometry.coordinates.c..121.461714..36.112177.</th><th scope=col>...</th><th scope=col>features.geometry.coordinates.c..121.232899..38.828072..1</th><th scope=col>features.geometry.coordinates.c..121.235107..38.825383..1</th><th scope=col>features.geometry.coordinates.c..121.2361..38.822061..1</th><th scope=col>features.geometry.coordinates.c..121.237899..38.820646..1</th><th scope=col>features.geometry.coordinates.c..121.240081..38.820239..1</th><th scope=col>features.geometry.coordinates.c..121.243212..38.820836..1</th><th scope=col>features.geometry.coordinates.c..121.247906..38.820889..1</th><th scope=col>features.geometry.coordinates.c..121.253665..38.819597..1</th><th scope=col>features.geometry.coordinates.c..121.256061..38.82368..1</th><th scope=col>features.geometry.coordinates.c..121.257205..38.82472..3</th></tr></thead>\n",
       "<tbody>\n",
       "\t<tr><td>FeatureCollection      </td><td>Feature                </td><td>1                      </td><td>Sargent Creek, San Ardo</td><td>MultiPolygon           </td><td>-121.59511             </td><td>-121.5402              </td><td>-121.50095             </td><td>-121.5010              </td><td>-121.46171             </td><td>...                    </td><td>-121.23290             </td><td>-121.23511             </td><td>-121.23610             </td><td>-121.23790             </td><td>-121.24008             </td><td>-121.24321             </td><td>-121.24791             </td><td>-121.2537              </td><td>-121.25606             </td><td>-121.25720             </td></tr>\n",
       "\t<tr><td>FeatureCollection      </td><td>Feature                </td><td>1                      </td><td>Sargent Creek, San Ardo</td><td>MultiPolygon           </td><td>  36.11126             </td><td>  36.1115              </td><td>  36.11169             </td><td>  36.1127              </td><td>  36.11218             </td><td>...                    </td><td>  38.82807             </td><td>  38.82538             </td><td>  38.82206             </td><td>  38.82065             </td><td>  38.82024             </td><td>  38.82084             </td><td>  38.82089             </td><td>  38.8196              </td><td>  38.82368             </td><td>  38.82472             </td></tr>\n",
       "</tbody>\n",
       "</table>\n"
      ],
      "text/markdown": [
       "\n",
       "type | features.type | features.properties.MOVEMENT_ID | features.properties.DISPLAY_NAME | features.geometry.type | features.geometry.coordinates.c..121.595108..36.111261. | features.geometry.coordinates.c..121.540189..36.111498. | features.geometry.coordinates.c..121.500954..36.111686. | features.geometry.coordinates.c..121.501011..36.112702. | features.geometry.coordinates.c..121.461714..36.112177. | ... | features.geometry.coordinates.c..121.232899..38.828072..1 | features.geometry.coordinates.c..121.235107..38.825383..1 | features.geometry.coordinates.c..121.2361..38.822061..1 | features.geometry.coordinates.c..121.237899..38.820646..1 | features.geometry.coordinates.c..121.240081..38.820239..1 | features.geometry.coordinates.c..121.243212..38.820836..1 | features.geometry.coordinates.c..121.247906..38.820889..1 | features.geometry.coordinates.c..121.253665..38.819597..1 | features.geometry.coordinates.c..121.256061..38.82368..1 | features.geometry.coordinates.c..121.257205..38.82472..3 | \n",
       "|---|---|\n",
       "| FeatureCollection       | Feature                 | 1                       | Sargent Creek, San Ardo | MultiPolygon            | -121.59511              | -121.5402               | -121.50095              | -121.5010               | -121.46171              | ...                     | -121.23290              | -121.23511              | -121.23610              | -121.23790              | -121.24008              | -121.24321              | -121.24791              | -121.2537               | -121.25606              | -121.25720              | \n",
       "| FeatureCollection       | Feature                 | 1                       | Sargent Creek, San Ardo | MultiPolygon            |   36.11126              |   36.1115               |   36.11169              |   36.1127               |   36.11218              | ...                     |   38.82807              |   38.82538              |   38.82206              |   38.82065              |   38.82024              |   38.82084              |   38.82089              |   38.8196               |   38.82368              |   38.82472              | \n",
       "\n",
       "\n"
      ],
      "text/plain": [
       "  type              features.type features.properties.MOVEMENT_ID\n",
       "1 FeatureCollection Feature       1                              \n",
       "2 FeatureCollection Feature       1                              \n",
       "  features.properties.DISPLAY_NAME features.geometry.type\n",
       "1 Sargent Creek, San Ardo          MultiPolygon          \n",
       "2 Sargent Creek, San Ardo          MultiPolygon          \n",
       "  features.geometry.coordinates.c..121.595108..36.111261.\n",
       "1 -121.59511                                             \n",
       "2   36.11126                                             \n",
       "  features.geometry.coordinates.c..121.540189..36.111498.\n",
       "1 -121.5402                                              \n",
       "2   36.1115                                              \n",
       "  features.geometry.coordinates.c..121.500954..36.111686.\n",
       "1 -121.50095                                             \n",
       "2   36.11169                                             \n",
       "  features.geometry.coordinates.c..121.501011..36.112702.\n",
       "1 -121.5010                                              \n",
       "2   36.1127                                              \n",
       "  features.geometry.coordinates.c..121.461714..36.112177. ...\n",
       "1 -121.46171                                              ...\n",
       "2   36.11218                                              ...\n",
       "  features.geometry.coordinates.c..121.232899..38.828072..1\n",
       "1 -121.23290                                               \n",
       "2   38.82807                                               \n",
       "  features.geometry.coordinates.c..121.235107..38.825383..1\n",
       "1 -121.23511                                               \n",
       "2   38.82538                                               \n",
       "  features.geometry.coordinates.c..121.2361..38.822061..1\n",
       "1 -121.23610                                             \n",
       "2   38.82206                                             \n",
       "  features.geometry.coordinates.c..121.237899..38.820646..1\n",
       "1 -121.23790                                               \n",
       "2   38.82065                                               \n",
       "  features.geometry.coordinates.c..121.240081..38.820239..1\n",
       "1 -121.24008                                               \n",
       "2   38.82024                                               \n",
       "  features.geometry.coordinates.c..121.243212..38.820836..1\n",
       "1 -121.24321                                               \n",
       "2   38.82084                                               \n",
       "  features.geometry.coordinates.c..121.247906..38.820889..1\n",
       "1 -121.24791                                               \n",
       "2   38.82089                                               \n",
       "  features.geometry.coordinates.c..121.253665..38.819597..1\n",
       "1 -121.2537                                                \n",
       "2   38.8196                                                \n",
       "  features.geometry.coordinates.c..121.256061..38.82368..1\n",
       "1 -121.25606                                              \n",
       "2   38.82368                                              \n",
       "  features.geometry.coordinates.c..121.257205..38.82472..3\n",
       "1 -121.25720                                              \n",
       "2   38.82472                                              "
      ]
     },
     "metadata": {},
     "output_type": "display_data"
    }
   ],
   "source": [
    "head(uber_sf_geo_df)"
   ]
  },
  {
   "cell_type": "code",
   "execution_count": null,
   "metadata": {
    "collapsed": true
   },
   "outputs": [],
   "source": [
    "for entry in geo_data:\n",
    "    data = {}\n",
    "    # Retrieve coordinate list and compute mean coordinates\n",
    "    coord_list = entry['geometry']['coordinates'][0][0]\n",
    "    mean_coord = np.mean(np.asarray(coord_list),axis=0)\n",
    "    movement_id = entry['properties']['MOVEMENT_ID']\n",
    "\n",
    "    data['coord_list'] = coord_list\n",
    "    data['mean_coord'] = mean_coord\n",
    "    data['display_name'] = entry['properties']['DISPLAY_NAME']\n",
    "    location_dictionary[movement_id] = data"
   ]
  }
 ],
 "metadata": {
  "kernelspec": {
   "display_name": "R",
   "language": "R",
   "name": "ir"
  },
  "language_info": {
   "codemirror_mode": "r",
   "file_extension": ".r",
   "mimetype": "text/x-r-source",
   "name": "R",
   "pygments_lexer": "r",
   "version": "3.3.2"
  }
 },
 "nbformat": 4,
 "nbformat_minor": 2
}
