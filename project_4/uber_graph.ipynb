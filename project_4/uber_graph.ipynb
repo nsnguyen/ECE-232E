{
 "cells": [
  {
   "cell_type": "code",
   "execution_count": 1,
   "metadata": {},
   "outputs": [
    {
     "name": "stderr",
     "output_type": "stream",
     "text": [
      "Warning message:\n",
      "\"package 'igraph' was built under R version 3.3.3\"\n",
      "Attaching package: 'igraph'\n",
      "\n",
      "The following objects are masked from 'package:stats':\n",
      "\n",
      "    decompose, spectrum\n",
      "\n",
      "The following object is masked from 'package:base':\n",
      "\n",
      "    union\n",
      "\n"
     ]
    }
   ],
   "source": [
    "library('igraph')\n",
    "library(\"rjson\")"
   ]
  },
  {
   "cell_type": "code",
   "execution_count": 10,
   "metadata": {
    "collapsed": true
   },
   "outputs": [],
   "source": [
    "uber_sf_geo = fromJSON(file = \"san_francisco_censustracts.json\")\n",
    "uber_sf_geo_df = as.data.frame(uber_sf_geo)"
   ]
  },
  {
   "cell_type": "code",
   "execution_count": 18,
   "metadata": {},
   "outputs": [
    {
     "data": {
      "text/html": [
       "<table>\n",
       "<thead><tr><th scope=col>type</th><th scope=col>features.type</th><th scope=col>features.properties.MOVEMENT_ID</th><th scope=col>features.properties.DISPLAY_NAME</th><th scope=col>features.geometry.type</th><th scope=col>features.geometry.coordinates.c..121.595108..36.111261.</th><th scope=col>features.geometry.coordinates.c..121.540189..36.111498.</th><th scope=col>features.geometry.coordinates.c..121.500954..36.111686.</th><th scope=col>features.geometry.coordinates.c..121.501011..36.112702.</th><th scope=col>features.geometry.coordinates.c..121.461714..36.112177.</th><th scope=col>...</th><th scope=col>features.geometry.coordinates.c..121.232899..38.828072..1</th><th scope=col>features.geometry.coordinates.c..121.235107..38.825383..1</th><th scope=col>features.geometry.coordinates.c..121.2361..38.822061..1</th><th scope=col>features.geometry.coordinates.c..121.237899..38.820646..1</th><th scope=col>features.geometry.coordinates.c..121.240081..38.820239..1</th><th scope=col>features.geometry.coordinates.c..121.243212..38.820836..1</th><th scope=col>features.geometry.coordinates.c..121.247906..38.820889..1</th><th scope=col>features.geometry.coordinates.c..121.253665..38.819597..1</th><th scope=col>features.geometry.coordinates.c..121.256061..38.82368..1</th><th scope=col>features.geometry.coordinates.c..121.257205..38.82472..3</th></tr></thead>\n",
       "<tbody>\n",
       "\t<tr><td>FeatureCollection      </td><td>Feature                </td><td>1                      </td><td>Sargent Creek, San Ardo</td><td>MultiPolygon           </td><td>-121.59511             </td><td>-121.5402              </td><td>-121.50095             </td><td>-121.5010              </td><td>-121.46171             </td><td>...                    </td><td>-121.23290             </td><td>-121.23511             </td><td>-121.23610             </td><td>-121.23790             </td><td>-121.24008             </td><td>-121.24321             </td><td>-121.24791             </td><td>-121.2537              </td><td>-121.25606             </td><td>-121.25720             </td></tr>\n",
       "\t<tr><td>FeatureCollection      </td><td>Feature                </td><td>1                      </td><td>Sargent Creek, San Ardo</td><td>MultiPolygon           </td><td>  36.11126             </td><td>  36.1115              </td><td>  36.11169             </td><td>  36.1127              </td><td>  36.11218             </td><td>...                    </td><td>  38.82807             </td><td>  38.82538             </td><td>  38.82206             </td><td>  38.82065             </td><td>  38.82024             </td><td>  38.82084             </td><td>  38.82089             </td><td>  38.8196              </td><td>  38.82368             </td><td>  38.82472             </td></tr>\n",
       "</tbody>\n",
       "</table>\n"
      ],
      "text/markdown": [
       "\n",
       "type | features.type | features.properties.MOVEMENT_ID | features.properties.DISPLAY_NAME | features.geometry.type | features.geometry.coordinates.c..121.595108..36.111261. | features.geometry.coordinates.c..121.540189..36.111498. | features.geometry.coordinates.c..121.500954..36.111686. | features.geometry.coordinates.c..121.501011..36.112702. | features.geometry.coordinates.c..121.461714..36.112177. | ... | features.geometry.coordinates.c..121.232899..38.828072..1 | features.geometry.coordinates.c..121.235107..38.825383..1 | features.geometry.coordinates.c..121.2361..38.822061..1 | features.geometry.coordinates.c..121.237899..38.820646..1 | features.geometry.coordinates.c..121.240081..38.820239..1 | features.geometry.coordinates.c..121.243212..38.820836..1 | features.geometry.coordinates.c..121.247906..38.820889..1 | features.geometry.coordinates.c..121.253665..38.819597..1 | features.geometry.coordinates.c..121.256061..38.82368..1 | features.geometry.coordinates.c..121.257205..38.82472..3 | \n",
       "|---|---|\n",
       "| FeatureCollection       | Feature                 | 1                       | Sargent Creek, San Ardo | MultiPolygon            | -121.59511              | -121.5402               | -121.50095              | -121.5010               | -121.46171              | ...                     | -121.23290              | -121.23511              | -121.23610              | -121.23790              | -121.24008              | -121.24321              | -121.24791              | -121.2537               | -121.25606              | -121.25720              | \n",
       "| FeatureCollection       | Feature                 | 1                       | Sargent Creek, San Ardo | MultiPolygon            |   36.11126              |   36.1115               |   36.11169              |   36.1127               |   36.11218              | ...                     |   38.82807              |   38.82538              |   38.82206              |   38.82065              |   38.82024              |   38.82084              |   38.82089              |   38.8196               |   38.82368              |   38.82472              | \n",
       "\n",
       "\n"
      ],
      "text/plain": [
       "  type              features.type features.properties.MOVEMENT_ID\n",
       "1 FeatureCollection Feature       1                              \n",
       "2 FeatureCollection Feature       1                              \n",
       "  features.properties.DISPLAY_NAME features.geometry.type\n",
       "1 Sargent Creek, San Ardo          MultiPolygon          \n",
       "2 Sargent Creek, San Ardo          MultiPolygon          \n",
       "  features.geometry.coordinates.c..121.595108..36.111261.\n",
       "1 -121.59511                                             \n",
       "2   36.11126                                             \n",
       "  features.geometry.coordinates.c..121.540189..36.111498.\n",
       "1 -121.5402                                              \n",
       "2   36.1115                                              \n",
       "  features.geometry.coordinates.c..121.500954..36.111686.\n",
       "1 -121.50095                                             \n",
       "2   36.11169                                             \n",
       "  features.geometry.coordinates.c..121.501011..36.112702.\n",
       "1 -121.5010                                              \n",
       "2   36.1127                                              \n",
       "  features.geometry.coordinates.c..121.461714..36.112177. ...\n",
       "1 -121.46171                                              ...\n",
       "2   36.11218                                              ...\n",
       "  features.geometry.coordinates.c..121.232899..38.828072..1\n",
       "1 -121.23290                                               \n",
       "2   38.82807                                               \n",
       "  features.geometry.coordinates.c..121.235107..38.825383..1\n",
       "1 -121.23511                                               \n",
       "2   38.82538                                               \n",
       "  features.geometry.coordinates.c..121.2361..38.822061..1\n",
       "1 -121.23610                                             \n",
       "2   38.82206                                             \n",
       "  features.geometry.coordinates.c..121.237899..38.820646..1\n",
       "1 -121.23790                                               \n",
       "2   38.82065                                               \n",
       "  features.geometry.coordinates.c..121.240081..38.820239..1\n",
       "1 -121.24008                                               \n",
       "2   38.82024                                               \n",
       "  features.geometry.coordinates.c..121.243212..38.820836..1\n",
       "1 -121.24321                                               \n",
       "2   38.82084                                               \n",
       "  features.geometry.coordinates.c..121.247906..38.820889..1\n",
       "1 -121.24791                                               \n",
       "2   38.82089                                               \n",
       "  features.geometry.coordinates.c..121.253665..38.819597..1\n",
       "1 -121.2537                                                \n",
       "2   38.8196                                                \n",
       "  features.geometry.coordinates.c..121.256061..38.82368..1\n",
       "1 -121.25606                                              \n",
       "2   38.82368                                              \n",
       "  features.geometry.coordinates.c..121.257205..38.82472..3\n",
       "1 -121.25720                                              \n",
       "2   38.82472                                              "
      ]
     },
     "metadata": {},
     "output_type": "display_data"
    }
   ],
   "source": [
    "uber_sf_geo_df"
   ]
  },
  {
   "cell_type": "code",
   "execution_count": 20,
   "metadata": {},
   "outputs": [
    {
     "ename": "ERROR",
     "evalue": "Error in `[.data.frame`(data, , timevar): undefined columns selected\n",
     "output_type": "error",
     "traceback": [
      "Error in `[.data.frame`(data, , timevar): undefined columns selected\nTraceback:\n",
      "1. reshape(uber_sf_geo_df, direction = \"wide\")",
      "2. reshapeWide(data, idvar = idvar, timevar = timevar, varying = varying, \n .     v.names = v.names, drop = drop, new.row.names = new.row.names)",
      "3. unique(data[, timevar])",
      "4. data[, timevar]",
      "5. `[.data.frame`(data, , timevar)",
      "6. stop(\"undefined columns selected\")"
     ]
    }
   ],
   "source": [
    "uber_sf_geo_df = reshape(uber_sf_geo_df, direction=\"wide\")"
   ]
  },
  {
   "cell_type": "code",
   "execution_count": 2,
   "metadata": {
    "collapsed": true
   },
   "outputs": [],
   "source": [
    "# QUESTION 6: Report the number of nodes and edges in G."
   ]
  },
  {
   "cell_type": "code",
   "execution_count": 3,
   "metadata": {},
   "outputs": [
    {
     "data": {
      "text/plain": [
       "[[1]]\n",
       "IGRAPH 07d21e4 UNW- 1898 321703 -- \n",
       "+ attr: name (v/c), weight (e/n)\n",
       "+ edges from 07d21e4 (vertex names):\n",
       " [1] 73  --1982 1523--2213 433 --438  333 --448  315 --2231 605 --2202\n",
       " [7] 125 --2250 1728--1762 1748--1760 1743--1918 1750--1848 1648--1770\n",
       "[13] 1538--1781 1690--2448 1691--2438 97  --624  83  --764  87  --724 \n",
       "[19] 77  --824  2117--2344 1527--2403 2312--2437 64  --954  964 --1499\n",
       "[25] 98  --614  1047--2451 91  --684  2157--2340 76  --834  2315--2407\n",
       "[31] 2691--2694 1087--2349 1097--2348 2209--2487 918 --2408 937 --2218\n",
       "[37] 927 --2318 275 --808  175 --818  195 --816  917 --2490 91  --675 \n",
       "[43] 81  --676  61  --678  1417--2022 309 --2233 403 --1293 315 --2173\n",
       "+ ... omitted several edges\n"
      ]
     },
     "metadata": {},
     "output_type": "display_data"
    }
   ],
   "source": [
    "uber_graph = read_graph('december_data.csv',format='ncol',directed=FALSE)\n",
    "components = decompose(uber_graph,min.vertices=10)\n",
    "components"
   ]
  },
  {
   "cell_type": "code",
   "execution_count": 4,
   "metadata": {
    "collapsed": true
   },
   "outputs": [],
   "source": [
    "# Because there's only one component with more than 10 vertices, this is probably the GCC\n",
    "uber_gcc = components[[1]]"
   ]
  },
  {
   "cell_type": "code",
   "execution_count": 5,
   "metadata": {},
   "outputs": [
    {
     "name": "stdout",
     "output_type": "stream",
     "text": [
      "[1] 1898\n",
      "[1] 1905\n",
      "[1] \"We can see 7 nodes were removed\"\n"
     ]
    }
   ],
   "source": [
    "print(vcount(uber_gcc))\n",
    "print(vcount(uber_graph))\n",
    "print(\"We can see 7 nodes were removed\")"
   ]
  },
  {
   "cell_type": "code",
   "execution_count": 6,
   "metadata": {
    "collapsed": true
   },
   "outputs": [],
   "source": [
    "# Write the graph to file\n",
    "write_graph(uber_gcc,'uber_gcc.txt',format=\"ncol\")"
   ]
  },
  {
   "cell_type": "code",
   "execution_count": 7,
   "metadata": {},
   "outputs": [
    {
     "name": "stdout",
     "output_type": "stream",
     "text": [
      "[1] \"Number of nodes:  1898\"\n",
      "[1] \"Number of edges:  321703\"\n"
     ]
    }
   ],
   "source": [
    "print(paste(\"Number of nodes: \", vcount(uber_gcc)))\n",
    "print(paste(\"Number of edges: \", ecount(uber_gcc)))"
   ]
  },
  {
   "cell_type": "code",
   "execution_count": 8,
   "metadata": {
    "collapsed": true
   },
   "outputs": [],
   "source": [
    "# QUESTION 7: Build a minimum spanning tree (MST) of graph G. Report the street addresses\n",
    "# of the two endpoints of a few edges. Are the results intuitive?"
   ]
  },
  {
   "cell_type": "code",
   "execution_count": 9,
   "metadata": {},
   "outputs": [
    {
     "data": {
      "image/png": "[encoded data removed]",
      "text/plain": [
       "Plot with title \"Minimum spanning tree of graph G\""
      ]
     },
     "metadata": {},
     "output_type": "display_data"
    }
   ],
   "source": [
    "g_mst = mst(uber_gcc)\n",
    "plot(g_mst, vertex.size=4, vertex.label=NA, main=\"Minimum spanning tree of graph G\")"
   ]
  },
  {
   "cell_type": "code",
   "execution_count": null,
   "metadata": {
    "collapsed": true
   },
   "outputs": [],
   "source": []
  },
  {
   "cell_type": "code",
   "execution_count": null,
   "metadata": {
    "collapsed": true
   },
   "outputs": [],
   "source": [
    "import random\n",
    "\n",
    "max_index = len(gcc.vs()) - 1 # 1879\n",
    "gcc_vertices = gcc.vs()\n",
    "num_of_experience = 1000\n",
    "used_combine = set()\n",
    "i = 0\n",
    "\n",
    "num_of_satisfy = 0\n",
    "while i < num_of_experience:\n",
    "    cur_combine = ()\n",
    "    while True:\n",
    "        indices = set()\n",
    "        while len(indices) < 3:\n",
    "            indices.add(random.randint(0,max_index))\n",
    "        li = list(indices)\n",
    "        li.sort()\n",
    "        cur_combine = tuple(li)\n",
    "        if not cur_combine in used_combine:\n",
    "            used_combine.add(cur_combine)\n",
    "            break\n",
    "    \n",
    "    edges = gcc.es.select(_within = cur_combine)\n",
    "    if len(edges) < 3:\n",
    "        continue\n",
    "    num = 'experience ' + str(i)\n",
    "    i += 1\n",
    "    print(num.center(90, '='))\n",
    "    count = 1\n",
    "    weights = []\n",
    "    for edge in edges:\n",
    "        weights.append(edge['weight'])\n",
    "        st = edge.tuple\n",
    "        print('edge '+str(count)+': ' + str(gcc_vertices[st[0]]['display name']) + \\\n",
    "              ' -- ' + str(gcc_vertices[st[1]]['display name']))\n",
    "        print('weight: ' + str(edge['weight']))\n",
    "        count += 1\n",
    "        print()\n",
    "    if weights[0] + weights[1] > weights[2] and weights[2] + weights[1] > weights[0] and \\\n",
    "    weights[0] + weights[2] > weights[1]:\n",
    "        print('satisfy the triangle inequality')\n",
    "        num_of_satisfy += 1\n",
    "    else:\n",
    "        print('not satisfy the triangle inequality')\n",
    "print(90 * '=')\n",
    "print('satisfying rate: ' + str(num_of_satisfy / num_of_experience))"
   ]
  }
 ],
 "metadata": {
  "kernelspec": {
   "display_name": "R",
   "language": "R",
   "name": "ir"
  },
  "language_info": {
   "codemirror_mode": "r",
   "file_extension": ".r",
   "mimetype": "text/x-r-source",
   "name": "R",
   "pygments_lexer": "r",
   "version": "3.3.2"
  }
 },
 "nbformat": 4,
 "nbformat_minor": 2
}
