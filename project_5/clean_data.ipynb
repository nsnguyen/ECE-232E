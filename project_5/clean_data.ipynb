{
 "cells": [
  {
   "cell_type": "code",
   "execution_count": 1,
   "metadata": {},
   "outputs": [],
   "source": [
    "import os\n",
    "import re\n",
    "import time"
   ]
  },
  {
   "cell_type": "code",
   "execution_count": 2,
   "metadata": {},
   "outputs": [],
   "source": [
    "ACTOR_MOVIES_PATH = \"raw_data/actor_movies.txt\"\n",
    "ACTRESS_MOVIES_PATH = \"raw_data/actress_movies.txt\""
   ]
  },
  {
   "cell_type": "code",
   "execution_count": 79,
   "metadata": {},
   "outputs": [],
   "source": [
    "# Question 1: part 1 combined both files together.\n",
    "directory = os.path.abspath(\"raw_data/\")\n",
    "\n",
    "with open(directory + '/actor_movies.txt', 'r', encoding=\"ISO-8859-1\") as actor_movies, open(directory + '/actress_movies.txt', 'r', encoding='ISO-8859-1') as actress_movies:\n",
    "    with open(directory+'/q1_combined.txt', 'w') as combined:\n",
    "        for actor in actor_movies:\n",
    "            combined.write(actor)\n",
    "        for actress in actress_movies:\n",
    "            combined.write(actress)"
   ]
  },
  {
   "cell_type": "code",
   "execution_count": 10,
   "metadata": {},
   "outputs": [
    {
     "name": "stdout",
     "output_type": "stream",
     "text": [
      "Actor: $hort, Too, Movie: American Pimp (1999)\n",
      "Actor: $hort, Too, Movie: Beats, Rhymes & Life: The Travels of a Tribe Called Quest (2011)\n",
      "Actor: $hort, Too, Movie: Gangsta Rap: The Glockumentary (2007)\n",
      "Actor: $hort, Too, Movie: Ghetto Physics (2010)\n",
      "Actor: $hort, Too, Movie: Mac Dre: Legend of the Bay (2014)\n",
      "Actor: $hort, Too, Movie: Menace II Society (1993)\n",
      "Actor: $hort, Too, Movie: Pimpalation: Return of the Trill (2006)\n",
      "Actor: $hort, Too, Movie: Porndogs: The Adventures of Sadie (2009)\n",
      "Actor: $hort, Too, Movie: Rhyme & Reason (1997)\n",
      "Actor: $hort, Too, Movie: Stop Pepper Palmer (2014)\n",
      "Actor: $hort, Too, Movie: Townbiz (2010)\n",
      "Actor: $hort, Too, Movie: Uprising: Hip Hop and the LA Riots (2012)\n",
      "Actor: 2 Live Crew, Movie: 2 Live Crew Feat. Ice-T: The Real One (1998)\n",
      "Actor: 2 Live Crew, Movie: 2 Live Crew Feat. KC of KC & the Sunshine Band and Freak Nasty: 2 Live Party (1998)\n",
      "Actor: 2 Live Crew, Movie: 2 Live Crew: C'mon Babe (1990)\n",
      "Actor: 2 Live Crew, Movie: 2 Live Crew: Do the Damn Thing (1996)\n",
      "Actor: 2 Live Crew, Movie: 2 Live Crew: Do Wah Diddy Diddy (1988)\n",
      "Actor: 2 Live Crew, Movie: 2 Live Crew: Hoochie Mama (1995)\n",
      "Actor: 2 Live Crew, Movie: 2 Live Crew: Me So Horny (1989)\n",
      "Actor: 2 Live Crew, Movie: 2 Live Crew: Move Somethin' (1988)\n",
      "Actor: 2 Live Crew, Movie: 2 Live Crew: Pop the Pussy (1991)\n",
      "Actor: 2 Live Crew, Movie: 2 Live Crew: Shake a Lil Somethin' (1996)\n",
      "Actor: 2 Live Crew, Movie: 2 Live Crew: Take It Off (2014)\n",
      "Actor: 2 Live Crew, Movie: 2 Live Crew: The 2 Live Crew Mega Mix (1992)\n",
      "Actor: 2 Live Crew, Movie: 2 Live Crew: Yakety Yak (1988)\n",
      "Actor: 2 Live Crew, Movie: A Family Underground (2009)\n",
      "Actor: 2 Live Crew, Movie: Flo Rida Feat. Sage the Gemini and Lookas: G.D.F.R. (2014)\n",
      "Actor: 2 Live Crew, Movie: Luke Feat. 2 Live Crew: Banned in the U.S.A. (1990)\n",
      "Actor: 2 Live Crew, Movie: Luke Feat. 2 Live Crew: Do the Bart (1990)\n",
      "Actor: 2 Live Crew, Movie: Luke Feat. 2 Live Crew: Mama Juanita (1990)\n",
      "Actor: 2 Live Crew, Movie: The New 2 Live Crew: Hell, Yeah (1994)\n",
      "Actor: 2 Live Crew, Movie: The New 2 Live Crew: You Go Girl (1994)\n",
      "Actor: 50 Cent, Movie: 13 (2010/I)\n",
      "Actor: 50 Cent, Movie: 50 Cent: Blood on the Sand (2009)\n",
      "Actor: 50 Cent, Movie: 50 Cent: Bulletproof (2005)\n",
      "Actor: 50 Cent, Movie: All Things Fall Apart (2011)\n",
      "Actor: 50 Cent, Movie: Aruba International Film Festival (2011)\n",
      "Actor: 50 Cent, Movie: Beef (2003)\n",
      "Actor: 50 Cent, Movie: Call of Duty: Modern Warfare 2 (2009)\n",
      "Actor: 50 Cent, Movie: Caught in the Crossfire (2010)\n",
      "Actor: 50 Cent, Movie: Champs (2015)\n",
      "Actor: 50 Cent, Movie: Dead Man Running (2009)\n",
      "Actor: 50 Cent, Movie: E! Buzz with Carla B (2011)\n",
      "Actor: 50 Cent, Movie: Escape Plan (2013)\n",
      "Actor: 50 Cent, Movie: Fire with Fire (2012/II)\n",
      "Actor: 50 Cent, Movie: Freelancers (2012)\n",
      "Actor: 50 Cent, Movie: Get Rich or Die Tryin' (2005)\n",
      "Actor: 50 Cent, Movie: Gun (2010)\n",
      "Actor: 50 Cent, Movie: Home of the Brave (2006)\n",
      "Actor: 50 Cent, Movie: How to Make Money Selling Drugs (2012)\n"
     ]
    }
   ],
   "source": [
    "COMBINED_PATH = \"raw_data/q1_combined.txt\"\n",
    "\n",
    "cast_set = set()\n",
    "movie_set = set()\n",
    "\n",
    "with open(COMBINED_PATH,'r',encoding = \"ISO-8859-1\") as f, open(\"raw_data/clean_cast_movies.txt\",'w') as writer:\n",
    "    counter = 0\n",
    "    for line in f:\n",
    "        text = str(line)[:-3].split('\\t\\t')\n",
    "        if len(text) > 10:\n",
    "            writer.write(text[0])\n",
    "            for i in range(1,len(text)):\n",
    "                year_search = re.search(r'\\s+\\(\\d{4}(.*?)\\)',text[i])\n",
    "                # filter out any movie titles with invalid years?\n",
    "                if year_search:\n",
    "                    cast_set.add(text[0])\n",
    "                    movie_set.add(text[i][:year_search.end()])\n",
    "                    writer.write('\\t\\t')\n",
    "                    writer.write(text[i][:year_search.end()])\n",
    "                    # display some examples\n",
    "                    if counter < 50:\n",
    "                        print(\"Actor: %s, Movie: %s\" % (text[0], text[i][:year_search.end()]))\n",
    "                        counter +=1\n",
    "            writer.write('\\n')"
   ]
  },
  {
   "cell_type": "code",
   "execution_count": 11,
   "metadata": {},
   "outputs": [
    {
     "name": "stdout",
     "output_type": "stream",
     "text": [
      "0\n",
      "10000\n",
      "20000\n",
      "30000\n",
      "40000\n",
      "50000\n",
      "60000\n",
      "70000\n",
      "80000\n",
      "90000\n",
      "100000\n",
      "110000\n"
     ]
    }
   ],
   "source": [
    "# Problem 4, 5 -- Generate a dictionary where (K,V) corresponds\n",
    "\n",
    "movies_hash = {}\n",
    "movie_list = []\n",
    "\n",
    "index = 0\n",
    "with open('raw_data/clean_cast_movies.txt','r') as cleansed:\n",
    "    counter = 0\n",
    "    for line in cleansed:\n",
    "        if counter % 10000 == 0:\n",
    "            print(\"%d\" % (counter))\n",
    "        line_split = line.split('\\t\\t')\n",
    "        movies = set(line_split[1:])\n",
    "        movies_hash[line_split[0]] = movies\n",
    "        counter += 1"
   ]
  },
  {
   "cell_type": "code",
   "execution_count": 12,
   "metadata": {},
   "outputs": [
    {
     "name": "stdout",
     "output_type": "stream",
     "text": [
      "0 3139 0.083333\n",
      "0 3215 0.083333\n",
      "0 3678 0.083333\n",
      "0 4074 0.083333\n",
      "0 4105 0.083333\n",
      "0 5772 0.083333\n",
      "0 6520 0.083333\n",
      "0 10892 0.083333\n",
      "0 11311 0.083333\n",
      "0 13138 0.083333\n",
      "0 13256 0.083333\n"
     ]
    }
   ],
   "source": [
    "# Sanity check for #2\n",
    "\n",
    "cast_list = list(movies_hash.keys())\n",
    "\n",
    "counter = 0\n",
    "t1 = time.time()\n",
    "for i in range(len(cast_list)):\n",
    "    for j in range(len(cast_list)):\n",
    "        if counter > 10:\n",
    "            break\n",
    "        if counter % 1000000 == 0:\n",
    "            #print(\"%d of %d in %f sec\" % (counter, (len(cast_list)**2)/2, time.time()-t1))\n",
    "            t1 = time.time()\n",
    "        if True and i!=j:\n",
    "            intersection_score = len(movies_hash[cast_list[i]] & movies_hash[cast_list[j]])\n",
    "            if intersection_score > 0:\n",
    "                i_to_j_weight = intersection_score / len(movies_hash[cast_list[i]])\n",
    "                j_to_i_weight = intersection_score / len(movies_hash[cast_list[j]])\n",
    "                print(\"%d %d %f\" % (i,j,i_to_j_weight))\n",
    "                #print(\"%d %d %f\" % (j,i,j_to_i_weight))\n",
    "                counter += 1\n",
    "        "
   ]
  },
  {
   "cell_type": "code",
   "execution_count": 22,
   "metadata": {},
   "outputs": [
    {
     "name": "stdout",
     "output_type": "stream",
     "text": [
      "Flowers, Bess (appeared in 828 movies.)\n",
      "Tatasciore, Fred (appeared in 353 movies.)\n",
      "Blum, Steve (IX) (appeared in 373 movies.)\n",
      "Harris, Sam (II) (appeared in 600 movies.)\n",
      "Miller, Harold (I) (appeared in 561 movies.)\n",
      "Lowenthal, Yuri (appeared in 316 movies.)\n",
      "Jeremy, Ron (appeared in 635 movies.)\n",
      "Phelps, Lee (I) (appeared in 647 movies.)\n",
      "Downes, Robin Atkin (appeared in 267 movies.)\n",
      "O'Connor, Frank (I) (appeared in 623 movies.)\n"
     ]
    }
   ],
   "source": [
    "# From R analysis, find actor names with the 10 highest page ranks\n",
    "sorted_top_10_pageranks = [85723,65939,6537,27638,45409,40346, 32125, 52778, 18108,49645]\n",
    "for id in sorted_top_10_pageranks:\n",
    "    print(cast_list[id] + \" (appeared in \" + str(len(movies_hash[cast_list[id]])) + \" movies.)\")"
   ]
  },
  {
   "cell_type": "code",
   "execution_count": 36,
   "metadata": {},
   "outputs": [
    {
     "name": "stdout",
     "output_type": "stream",
     "text": [
      "Cruise, Tom (appeared in 57 movies.)\n",
      "Watson, Emma (II) (appeared in 23 movies.)\n",
      "Clooney, George (appeared in 66 movies.)\n",
      "Hanks, Tom (appeared in 77 movies.)\n",
      "Johnson, Dwayne (I) (appeared in 69 movies.)\n",
      "Depp, Johnny (appeared in 97 movies.)\n",
      "Smith, Will (I) (appeared in 43 movies.)\n",
      "Streep, Meryl (appeared in 93 movies.)\n",
      "DiCaprio, Leonardo (appeared in 45 movies.)\n",
      "Pitt, Brad (appeared in 68 movies.)\n"
     ]
    }
   ],
   "source": [
    "# Q5 find the IDs of the famous peeps\n",
    "# • Tom Cruise\n",
    "# • Emma Watson (II)\n",
    "# • George Clooney\n",
    "# • Tom Hanks\n",
    "# • Dwayne Johnson (I)\n",
    "# • Johnny Depp\n",
    "# • Will Smith (I)\n",
    "# • Meryl Streep\n",
    "# • Leonardo DiCaprio\n",
    "# • Brad Pitt\n",
    "\n",
    "actor_list = [\"Cruise, Tom\", \"Watson, Emma (II)\", \"Clooney, George\", \"Hanks, Tom\",\"Johnson, Dwayne (I)\",\n",
    "             \"Depp, Johnny\", \"Smith, Will (I)\", \"Streep, Meryl\", \"DiCaprio, Leonardo\", \"Pitt, Brad\"]\n",
    "for name in actor_list:\n",
    "    id = cast_list.index(name)\n",
    "    print(name + \" (appeared in \" + str(len(movies_hash[cast_list[id]])) + \" movies.)\")\n"
   ]
  },
  {
   "cell_type": "code",
   "execution_count": null,
   "metadata": {},
   "outputs": [],
   "source": []
  }
 ],
 "metadata": {
  "kernelspec": {
   "display_name": "Python 3",
   "language": "python",
   "name": "python3"
  },
  "language_info": {
   "codemirror_mode": {
    "name": "ipython",
    "version": 3
   },
   "file_extension": ".py",
   "mimetype": "text/x-python",
   "name": "python",
   "nbconvert_exporter": "python",
   "pygments_lexer": "ipython3",
   "version": "3.6.5"
  }
 },
 "nbformat": 4,
 "nbformat_minor": 2
}
