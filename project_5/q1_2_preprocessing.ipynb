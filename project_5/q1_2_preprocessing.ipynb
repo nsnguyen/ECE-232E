{
 "cells": [
  {
   "cell_type": "code",
   "execution_count": 7,
   "metadata": {},
   "outputs": [],
   "source": [
    "import os\n",
    "import re"
   ]
  },
  {
   "cell_type": "code",
   "execution_count": 8,
   "metadata": {},
   "outputs": [],
   "source": [
    "ACTOR_MOVIES_PATH = \"raw_data/actor_movies.txt\"\n",
    "ACTRESS_MOVIES_PATH = \"raw_data/actress_movies.txt\""
   ]
  },
  {
   "cell_type": "code",
   "execution_count": 9,
   "metadata": {},
   "outputs": [],
   "source": [
    "# Question 1: part 1 combined both files together.\n",
    "directory = os.path.abspath(\"project4_data/\")\n",
    "\n",
    "with open(directory + '/actor_movies.txt', 'r', encoding=\"cp1252\") as actor_movies, open(directory + '/actress_movies.txt', 'r', encoding='ISO-8859-1') as actress_movies:\n",
    "    with open(directory+'/q1_combined.txt', 'w') as combined:\n",
    "        for actor in actor_movies:\n",
    "            combined.write(actor)\n",
    "        for actress in actress_movies:\n",
    "            combined.write(actress)"
   ]
  },
  {
   "cell_type": "code",
   "execution_count": 10,
   "metadata": {},
   "outputs": [
    {
     "name": "stdout",
     "output_type": "stream",
     "text": [
      "Actor: $hort, Too Movie: American Pimp (1999)\n",
      "Actor: $hort, Too Movie: Beats, Rhymes & Life: The Travels of a Tribe Called Quest (2011)\n",
      "Actor: $hort, Too Movie: Gangsta Rap: The Glockumentary (2007)\n",
      "Actor: $hort, Too Movie: Ghetto Physics (2010)\n",
      "Actor: $hort, Too Movie: Mac Dre: Legend of the Bay (2014)\n",
      "Actor: $hort, Too Movie: Menace II Society (1993)\n",
      "Actor: $hort, Too Movie: Pimpalation: Return of the Trill (2006)\n",
      "Actor: $hort, Too Movie: Porndogs: The Adventures of Sadie (2009)\n",
      "Actor: $hort, Too Movie: Rhyme & Reason (1997)\n",
      "Actor: $hort, Too Movie: Stop Pepper Palmer (2014)\n"
     ]
    }
   ],
   "source": [
    "COMBINED_PATH = \"project4_data/q1_combined.txt\"\n",
    "CLEANSED_PATH = 'project4_data/q1_cleansed.txt'\n",
    "\n",
    "cast_set = set()\n",
    "movie_set = set()\n",
    "\n",
    "with open(COMBINED_PATH,'r') as f, open(CLEANSED_PATH,'w') as c:\n",
    "    counter = 0\n",
    "    for line in f:\n",
    "        text = str(line)[:-3].split('\\t\\t')\n",
    "        if len(text) > 10:\n",
    "            cast_set.add(text[0])\n",
    "            temp_line = text[0] # will need to add this with movies for cleansed file\n",
    "            for i in range(1,len(text)):\n",
    "                year_search = re.search(r'\\s+\\(\\d{4}(.*?)\\)',text[i])\n",
    "                # filter out any movie titles with invalid years?\n",
    "                if year_search:\n",
    "                    movie_set.add(text[i][:year_search.end()])\n",
    "                    temp_line += '\\t\\t' + text[i][:year_search.end()]\n",
    "                    # display some examples\n",
    "                    if counter < 10:\n",
    "                        print(\"Actor: %s Movie: %s\" % (text[0], text[i][:year_search.end()]))\n",
    "                        counter +=1\n",
    "            c.write(temp_line + '\\n')"
   ]
  },
  {
   "cell_type": "code",
   "execution_count": 11,
   "metadata": {},
   "outputs": [
    {
     "name": "stdout",
     "output_type": "stream",
     "text": [
      "length of actor set: 113121\n",
      "length of movie set: 463219\n"
     ]
    }
   ],
   "source": [
    "print('length of actor set:', len(cast_set))\n",
    "print('length of movie set:', len(movie_set))"
   ]
  },
  {
   "cell_type": "code",
   "execution_count": 12,
   "metadata": {},
   "outputs": [],
   "source": [
    "#problem 2"
   ]
  },
  {
   "cell_type": "code",
   "execution_count": 13,
   "metadata": {},
   "outputs": [],
   "source": [
    "movies_hash = {}\n",
    "name_list = []\n",
    "movie_list = []\n",
    "\n",
    "index = 0\n",
    "with open(CLEANSED_PATH,'r') as cleansed, open('project4_data/index_name_list.txt','w') as indexing:\n",
    "    for line in cleansed:\n",
    "        line_split = line.split('\\t\\t')\n",
    "        movies = set()\n",
    "        for i in range(1,len(line_split)):\n",
    "            movies.add(line_split[i])\n",
    "            movies_hash[line_split[0]] = movies #set key as actor, values as movies they're in\n",
    "    \n",
    "    for item in movies_hash:\n",
    "        indexing.write(str(index).ljust(10) + item + '\\n')\n",
    "        name_list.append(item)\n",
    "        movie_list.append(movies_hash[item])\n",
    "        index += 1\n",
    "    \n",
    "    \n",
    "    "
   ]
  },
  {
   "cell_type": "code",
   "execution_count": 14,
   "metadata": {},
   "outputs": [],
   "source": [
    "WEIGHTED_PATH = 'project4_data/q1_weighted.txt'\n",
    "with open(WEIGHTED_PATH, 'w') as weighted:\n",
    "    length_movie_hash = len(movies_hash.keys())\n",
    "    for i in range(len(name_list)):\n",
    "        for j in range(len(name_list)):\n",
    "            if i != j:\n",
    "                intersection_length = len(movie_list[i].intersection(movie_list[j]))\n",
    "                current_weight = intersection_length / len(movie_list[i])\n",
    "                if current_weight > 1:\n",
    "                    raise ValueError('Weight > 1!')\n",
    "                if current_weight > 0.0:\n",
    "                    weighted.write(str(i) + '\\t\\t' + str(j) +'\\t\\t' + str(current_weight) + '\\n')\n",
    "                "
   ]
  },
  {
   "cell_type": "code",
   "execution_count": null,
   "metadata": {},
   "outputs": [],
   "source": []
  },
  {
   "cell_type": "code",
   "execution_count": null,
   "metadata": {},
   "outputs": [],
   "source": []
  },
  {
   "cell_type": "code",
   "execution_count": null,
   "metadata": {},
   "outputs": [],
   "source": []
  },
  {
   "cell_type": "code",
   "execution_count": null,
   "metadata": {},
   "outputs": [],
   "source": []
  },
  {
   "cell_type": "code",
   "execution_count": null,
   "metadata": {},
   "outputs": [],
   "source": []
  },
  {
   "cell_type": "code",
   "execution_count": null,
   "metadata": {},
   "outputs": [],
   "source": []
  }
 ],
 "metadata": {
  "kernelspec": {
   "display_name": "Python 3",
   "language": "python",
   "name": "python3"
  },
  "language_info": {
   "codemirror_mode": {
    "name": "ipython",
    "version": 3
   },
   "file_extension": ".py",
   "mimetype": "text/x-python",
   "name": "python",
   "nbconvert_exporter": "python",
   "pygments_lexer": "ipython3",
   "version": "3.6.5"
  }
 },
 "nbformat": 4,
 "nbformat_minor": 2
}
