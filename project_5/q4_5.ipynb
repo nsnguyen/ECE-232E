{
 "cells": [
  {
   "cell_type": "code",
   "execution_count": 1,
   "metadata": {},
   "outputs": [
    {
     "name": "stderr",
     "output_type": "stream",
     "text": [
      "\n",
      "Attaching package: ‘igraph’\n",
      "\n",
      "The following objects are masked from ‘package:stats’:\n",
      "\n",
      "    decompose, spectrum\n",
      "\n",
      "The following object is masked from ‘package:base’:\n",
      "\n",
      "    union\n",
      "\n"
     ]
    }
   ],
   "source": [
    "library('igraph')\n"
   ]
  },
  {
   "cell_type": "code",
   "execution_count": 3,
   "metadata": {},
   "outputs": [],
   "source": [
    "g = read.graph(\"project4_data/q1_weighted.txt\",format=\"ncol\",directed=TRUE)\n"
   ]
  },
  {
   "cell_type": "code",
   "execution_count": 9,
   "metadata": {},
   "outputs": [
    {
     "name": "stdout",
     "output_type": "stream",
     "text": [
      "id, in-degree\n",
      "85723   7420 \n",
      "65939   3810 \n",
      "6537   3187 \n",
      "27638   6793 \n",
      "45409   6504 \n",
      "40346   2627 \n",
      "32125   2821 \n",
      "52778   5466 \n",
      "18108   2886 \n",
      "49645   5392 \n",
      "3.994699e-05   1573 \n",
      "1.743871e-05   411 \n",
      "4.048205e-05   1509 \n",
      "5.272548e-05   2023 \n",
      "4.251289e-05   1306 \n",
      "5.544178e-05   2094 \n",
      "3.234962e-05   1258 \n",
      "4.076541e-05   1556 \n",
      "3.209231e-05   1251 \n",
      "4.394466e-05   1689 \n"
     ]
    }
   ],
   "source": [
    "\n",
    "# cast_page_rank = page_rank(g)\n",
    "# save(cast_page_rank,file='project_5/cast_page_rank.RData')\n",
    "\n",
    "load(file=\"q4_5_cast_page_rank.rda\")\n",
    "\n",
    "page_rank_vector = cast_page_rank$vector\n",
    "sorted_indices = order(page_rank_vector,decreasing=TRUE)\n",
    "top_ids = names(page_rank_vector[sorted_indices[1:10]])\n",
    "\n",
    "cat(\"id, in-degree\\n\")\n",
    "for (i in 1:length(top_ids)) {\n",
    "  cat(top_ids[i],\" \",degree(g,top_ids[i],mode=\"in\"),\"\\n\")\n",
    "}\n",
    "\n",
    "# Get the page ranks and in-degrees of the famous people for q5\n",
    "famous_ids = c(\"14500\",\"111287\",\"12809\",\"27253\",\"32384\",\"16874\",\"62766\",\"107821\",\"17281\",\"53242\")\n",
    "for (i in 1:length(famous_ids)) {\n",
    "  cat(page_rank_vector[famous_ids[i]], \" \", degree(g,famous_ids[i],mode=\"in\"),\"\\n\")\n",
    "}"
   ]
  },
  {
   "cell_type": "code",
   "execution_count": null,
   "metadata": {},
   "outputs": [],
   "source": []
  },
  {
   "cell_type": "code",
   "execution_count": null,
   "metadata": {},
   "outputs": [],
   "source": []
  },
  {
   "cell_type": "code",
   "execution_count": null,
   "metadata": {},
   "outputs": [],
   "source": []
  }
 ],
 "metadata": {
  "kernelspec": {
   "display_name": "R",
   "language": "R",
   "name": "ir"
  },
  "language_info": {
   "codemirror_mode": "r",
   "file_extension": ".r",
   "mimetype": "text/x-r-source",
   "name": "R",
   "pygments_lexer": "r",
   "version": "3.4.1"
  }
 },
 "nbformat": 4,
 "nbformat_minor": 2
}
