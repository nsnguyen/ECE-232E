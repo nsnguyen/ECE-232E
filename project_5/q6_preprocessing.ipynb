{
 "cells": [
  {
   "cell_type": "code",
   "execution_count": 62,
   "metadata": {},
   "outputs": [],
   "source": [
    "movies_actors = dict()\n",
    "with open('project4_data/q1_cleansed.txt', 'r', encoding='ISO-8859-1') as c:\n",
    "    for actors_movies_str in c:\n",
    "        actors_movies_arr = actors_movies_str.split('\\t\\t')\n",
    "        \n",
    "        actor = actors_movies_arr[0]\n",
    "        actors_movies_arr.remove(actor)\n",
    "        for movie in actors_movies_arr:\n",
    "            if(movie not in movies_actors):\n",
    "                movies_actors[movie] = set()\n",
    "            movies_actors[movie].add(actor)"
   ]
  },
  {
   "cell_type": "code",
   "execution_count": 63,
   "metadata": {},
   "outputs": [],
   "source": [
    "movie_list = list(movies_actors.keys())"
   ]
  },
  {
   "cell_type": "code",
   "execution_count": 64,
   "metadata": {},
   "outputs": [],
   "source": [
    "for movie in movie_list:\n",
    "    if len(movies_actors[movie]) < 5:\n",
    "        movies_actors.pop(movie, None)"
   ]
  },
  {
   "cell_type": "code",
   "execution_count": 68,
   "metadata": {
    "collapsed": true
   },
   "outputs": [],
   "source": [
    "movie_list = list(movies_actors.keys())\n",
    "actors_list = list(movies_actors.values())"
   ]
  },
  {
   "cell_type": "code",
   "execution_count": null,
   "metadata": {},
   "outputs": [],
   "source": [
    "with open('project4_data/movies_weighted_edges.txt', 'w') as w:\n",
    "    for i in range(0, len(movie_list) - 1):\n",
    "        for j in range(i+1, len(movie_list)):\n",
    "            actor_intersection = len(set(actors_list[i]) & set(actors_list[j]))\n",
    "            actor_union = len(set(actors_list[i]) | set(actors_list[j]))\n",
    "            edge_weight = actor_intersection/actor_union\n",
    "\n",
    "            if edge_weight > 0:\n",
    "                w.write(str(i) + ' ' + str(j) + ' ' + str(edge_weight) + '\\n')"
   ]
  },
  {
   "cell_type": "code",
   "execution_count": null,
   "metadata": {
    "collapsed": true
   },
   "outputs": [],
   "source": [
    "with open('project4_data/movie_index.txt', 'w') as i:\n",
    "    for i in range(len(movie_list)):\n",
    "        i.write(str(i) + ' ' + str(movie_list[i]) + '\\n')"
   ]
  },
  {
   "cell_type": "code",
   "execution_count": null,
   "metadata": {
    "collapsed": true
   },
   "outputs": [],
   "source": []
  },
  {
   "cell_type": "code",
   "execution_count": null,
   "metadata": {},
   "outputs": [],
   "source": []
  },
  {
   "cell_type": "code",
   "execution_count": null,
   "metadata": {},
   "outputs": [],
   "source": []
  },
  {
   "cell_type": "code",
   "execution_count": null,
   "metadata": {},
   "outputs": [],
   "source": []
  },
  {
   "cell_type": "code",
   "execution_count": null,
   "metadata": {},
   "outputs": [],
   "source": []
  }
 ],
 "metadata": {
  "kernelspec": {
   "display_name": "Python 3",
   "language": "python",
   "name": "python3"
  },
  "language_info": {
   "codemirror_mode": {
    "name": "ipython",
    "version": 3
   },
   "file_extension": ".py",
   "mimetype": "text/x-python",
   "name": "python",
   "nbconvert_exporter": "python",
   "pygments_lexer": "ipython3",
   "version": "3.6.5"
  }
 },
 "nbformat": 4,
 "nbformat_minor": 2
}
