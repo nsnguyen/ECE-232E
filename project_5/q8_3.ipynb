{
 "cells": [
  {
   "cell_type": "code",
   "execution_count": 44,
   "metadata": {},
   "outputs": [
    {
     "name": "stderr",
     "output_type": "stream",
     "text": [
      "Warning message:\n",
      "\"package 'MASS' was built under R version 3.3.3\""
     ]
    }
   ],
   "source": [
    "library(\"igraph\")\n",
    "library(hash)\n",
    "library(MASS)\n",
    "\n",
    "options(scipen=999)"
   ]
  },
  {
   "cell_type": "code",
   "execution_count": 2,
   "metadata": {
    "collapsed": true
   },
   "outputs": [],
   "source": [
    "# 8.3"
   ]
  },
  {
   "cell_type": "code",
   "execution_count": 3,
   "metadata": {
    "collapsed": true
   },
   "outputs": [],
   "source": [
    "weighted_movie_g = read_graph(\"project4_data/q6_movies_weighted.txt\",format=\"ncol\", directed = FALSE)"
   ]
  },
  {
   "cell_type": "code",
   "execution_count": 4,
   "metadata": {
    "collapsed": true
   },
   "outputs": [],
   "source": [
    "load(file = \"q7_cluster_fast_greedy.rda\")"
   ]
  },
  {
   "cell_type": "code",
   "execution_count": 5,
   "metadata": {
    "collapsed": true
   },
   "outputs": [],
   "source": [
    "movie_index = read.delim(\"project4_data/movie_index.txt\", header=FALSE, sep='\\t')"
   ]
  },
  {
   "cell_type": "code",
   "execution_count": 6,
   "metadata": {
    "collapsed": true
   },
   "outputs": [],
   "source": [
    "actor_index = read.delim(\"project4_data/actor_index.txt\", header=FALSE, sep='\\t')"
   ]
  },
  {
   "cell_type": "code",
   "execution_count": 7,
   "metadata": {},
   "outputs": [],
   "source": [
    "actors_in_movie_index = read.delim(\"project4_data/actors_in_movies_list.txt\", header=FALSE, sep='\\t')"
   ]
  },
  {
   "cell_type": "code",
   "execution_count": 8,
   "metadata": {
    "collapsed": true
   },
   "outputs": [],
   "source": [
    "cur_best_size = 21\n",
    "community = 0\n",
    "for (i in 1:length(fg)){\n",
    "    c_size = length(fg[[i]])\n",
    "    if(c_size >= 10 && c_size <= 20 && c_size < cur_best_size){\n",
    "        community = i\n",
    "        cur_best_size = c_size\n",
    "    }\n",
    "}"
   ]
  },
  {
   "cell_type": "code",
   "execution_count": 88,
   "metadata": {},
   "outputs": [
    {
     "data": {
      "text/html": [
       "27"
      ],
      "text/latex": [
       "27"
      ],
      "text/markdown": [
       "27"
      ],
      "text/plain": [
       "[1] 27"
      ]
     },
     "metadata": {},
     "output_type": "display_data"
    }
   ],
   "source": [
    "community"
   ]
  },
  {
   "cell_type": "code",
   "execution_count": 87,
   "metadata": {},
   "outputs": [
    {
     "data": {
      "text/html": [
       "12"
      ],
      "text/latex": [
       "12"
      ],
      "text/markdown": [
       "12"
      ],
      "text/plain": [
       "[1] 12"
      ]
     },
     "metadata": {},
     "output_type": "display_data"
    }
   ],
   "source": [
    "cur_best_size"
   ]
  },
  {
   "cell_type": "code",
   "execution_count": 9,
   "metadata": {},
   "outputs": [
    {
     "name": "stdout",
     "output_type": "stream",
     "text": [
      "[1] Cent jours avant le lendemain (2015)\n",
      "183557 Levels: '11' (1980) '38 (1986) '42 (1951) '49-'17 (1917) ... Zwei blaue Vergissmeinnicht (1963)\n",
      "[1] 669: Escape the Reality (2011)\n",
      "183557 Levels: '11' (1980) '38 (1986) '42 (1951) '49-'17 (1917) ... Zwei blaue Vergissmeinnicht (1963)\n",
      "[1] An Olimatsim adventure (2011)\n",
      "183557 Levels: '11' (1980) '38 (1986) '42 (1951) '49-'17 (1917) ... Zwei blaue Vergissmeinnicht (1963)\n",
      "[1] L'affaire Hawkins (2014)\n",
      "183557 Levels: '11' (1980) '38 (1986) '42 (1951) '49-'17 (1917) ... Zwei blaue Vergissmeinnicht (1963)\n",
      "[1] La peur anonyme (2014)\n",
      "183557 Levels: '11' (1980) '38 (1986) '42 (1951) '49-'17 (1917) ... Zwei blaue Vergissmeinnicht (1963)\n",
      "[1] La Peur aux trousse (2015)\n",
      "183557 Levels: '11' (1980) '38 (1986) '42 (1951) '49-'17 (1917) ... Zwei blaue Vergissmeinnicht (1963)\n",
      "[1] Les oiseaux se cachaient pour mourir (2015)\n",
      "183557 Levels: '11' (1980) '38 (1986) '42 (1951) '49-'17 (1917) ... Zwei blaue Vergissmeinnicht (1963)\n",
      "[1] Midnight Stranger (2011)\n",
      "183557 Levels: '11' (1980) '38 (1986) '42 (1951) '49-'17 (1917) ... Zwei blaue Vergissmeinnicht (1963)\n",
      "[1] New York Vengeance (2013)\n",
      "183557 Levels: '11' (1980) '38 (1986) '42 (1951) '49-'17 (1917) ... Zwei blaue Vergissmeinnicht (1963)\n",
      "[1] Des humains bien tranquilles (2016)\n",
      "183557 Levels: '11' (1980) '38 (1986) '42 (1951) '49-'17 (1917) ... Zwei blaue Vergissmeinnicht (1963)\n",
      "[1] Les années folles (2016)\n",
      "183557 Levels: '11' (1980) '38 (1986) '42 (1951) '49-'17 (1917) ... Zwei blaue Vergissmeinnicht (1963)\n",
      "[1] Mocakoma (2013)\n",
      "183557 Levels: '11' (1980) '38 (1986) '42 (1951) '49-'17 (1917) ... Zwei blaue Vergissmeinnicht (1963)\n"
     ]
    }
   ],
   "source": [
    "movie_nodes = c()\n",
    "for(i in 1:cur_best_size){\n",
    "    cur_movie_node = as.numeric(fg[community][[1]][i])\n",
    "    movie_nodes = c(movie_nodes, cur_movie_node)\n",
    "    print(movie_index[which(cur_movie_node == movie_index[,1]),2][1])\n",
    "}"
   ]
  },
  {
   "cell_type": "code",
   "execution_count": 26,
   "metadata": {},
   "outputs": [
    {
     "name": "stdout",
     "output_type": "stream",
     "text": [
      " [1] \"Bourassa-Simpson, Mathieu\"      \"Desjardins, Nick\"              \n",
      " [3] \"Leonard, Joshua\"                \"Charlebois, Jessica\"           \n",
      " [5] \"Williams, Michael C.\"           \"Legros, Simon (I)\"             \n",
      " [7] \"Donahue, Heather (I)\"           \"Lafond-Martel, Olivier\"        \n",
      " [9] \"Valin, Andréanne\"               \"Fortin, Samuel (I)\"            \n",
      "[11] \"Riel-Dery, Jessica\"             \"Boucher-L'Écuyer, Émile Pascal\"\n",
      "[13] \"Guimont, Mélanie\"              \n"
     ]
    }
   ],
   "source": [
    "all_actors = c()\n",
    "for(movie in movie_nodes){\n",
    "    actors = actors_in_movie_index[which(movie == actors_in_movie_index[,1]),2]\n",
    "    actors = toString(actors)\n",
    "    actors = strsplit(actors, split = '   ')\n",
    "    for(actor in actors[[1]]){\n",
    "        if(!(actor %in% all_actors)){\n",
    "            all_actors = c(all_actors, actor)\n",
    "        }\n",
    "    }\n",
    "}\n",
    "print(all_actors)"
   ]
  },
  {
   "cell_type": "code",
   "execution_count": 28,
   "metadata": {},
   "outputs": [],
   "source": [
    "all_actor_ids = c()\n",
    "movie_actor_el = c()\n",
    "for(movie in movie_nodes){\n",
    "    actors = actors_in_movie_index[which(movie == actors_in_movie_index[,1]),2]\n",
    "    actors = toString(actors)\n",
    "    actors = strsplit(actors, split = '   ')\n",
    "    for(actor in actors[[1]]){\n",
    "        actor_id = actor_index[which(actor == actor_index[,2]),1]\n",
    "        all_actor_ids = c(all_actor_ids, actor_id)\n",
    "        movie_actor_el = c(movie_actor_el, movie)\n",
    "        movie_actor_el = c(movie_actor_el, actor_id)\n",
    "    }\n",
    "}"
   ]
  },
  {
   "cell_type": "code",
   "execution_count": 62,
   "metadata": {
    "collapsed": true
   },
   "outputs": [],
   "source": [
    "unique_actor_ids = unique(all_actor_ids)"
   ]
  },
  {
   "cell_type": "code",
   "execution_count": 35,
   "metadata": {},
   "outputs": [],
   "source": [
    "count = 1\n",
    "el_matrix = matrix(, nrow = length(movie_actor_el)/2, ncol = 2)\n",
    "for(i in 1:(length(movie_actor_el)/2)){\n",
    "    el_matrix[i,1] = movie_actor_el[count]\n",
    "    el_matrix[i,2] = movie_actor_el[count+1]\n",
    "    count = count + 2\n",
    "}"
   ]
  },
  {
   "cell_type": "code",
   "execution_count": 50,
   "metadata": {},
   "outputs": [],
   "source": [
    "write.matrix(el_matrix, file=\"project4_data/bipartite_data.txt\", sep = \" \")"
   ]
  },
  {
   "cell_type": "code",
   "execution_count": 52,
   "metadata": {},
   "outputs": [],
   "source": [
    "bipartite_g = read_graph(\"project4_data/bipartite_data.txt\",format=\"ncol\", directed = FALSE)"
   ]
  },
  {
   "cell_type": "code",
   "execution_count": 60,
   "metadata": {},
   "outputs": [],
   "source": [
    "for(movie in movie_nodes){\n",
    "    V(bipartite_g)[toString(movie)]$color = 'lightblue'\n",
    "}"
   ]
  },
  {
   "cell_type": "code",
   "execution_count": 64,
   "metadata": {
    "collapsed": true
   },
   "outputs": [],
   "source": [
    "for(actor in unique_actor_ids){\n",
    "    V(bipartite_g)[toString(actor)]$color = 'lightpink'\n",
    "}"
   ]
  },
  {
   "cell_type": "code",
   "execution_count": 65,
   "metadata": {},
   "outputs": [
    {
     "data": {
      "image/png": "[encoded data removed]",
      "text/plain": [
       "Plot with title \"\""
      ]
     },
     "metadata": {},
     "output_type": "display_data"
    }
   ],
   "source": [
    "plot(bipartite_g)"
   ]
  },
  {
   "cell_type": "code",
   "execution_count": 76,
   "metadata": {
    "collapsed": true
   },
   "outputs": [],
   "source": [
    "three_most_important_actors = sort(table(all_actor_ids),decreasing=TRUE)[1:3]"
   ]
  },
  {
   "cell_type": "code",
   "execution_count": 77,
   "metadata": {},
   "outputs": [
    {
     "name": "stdout",
     "output_type": "stream",
     "text": [
      "all_actor_ids\n",
      "16970 37120 38585 \n",
      "   12    12    12 \n"
     ]
    }
   ],
   "source": [
    "print(three_most_important_actors)"
   ]
  },
  {
   "cell_type": "code",
   "execution_count": 86,
   "metadata": {},
   "outputs": [
    {
     "name": "stdout",
     "output_type": "stream",
     "text": [
      "[1] \"Actor:  Desjardins, Nick\"\n",
      "[1] \"Number of movies in:  12\"\n",
      "[1] \"Actor:  Lafond-Martel, Olivier\"\n",
      "[1] \"Number of movies in:  12\"\n",
      "[1] \"Actor:  Legros, Simon (I)\"\n",
      "[1] \"Number of movies in:  12\"\n"
     ]
    }
   ],
   "source": [
    "for(i in 1:length(three_most_important_actors)){\n",
    "    actor_id = names(three_most_important_actors)[i]\n",
    "    num_movies_in = three_most_important_actors[i]\n",
    "    actor = actor_index[which(actor_id == actor_index[,1]),2]\n",
    "    print(paste(\"Actor: \", actor))\n",
    "    print(paste(\"Number of movies in: \", num_movies_in))\n",
    "}"
   ]
  },
  {
   "cell_type": "code",
   "execution_count": null,
   "metadata": {
    "collapsed": true
   },
   "outputs": [],
   "source": []
  }
 ],
 "metadata": {
  "kernelspec": {
   "display_name": "R",
   "language": "R",
   "name": "ir"
  },
  "language_info": {
   "codemirror_mode": "r",
   "file_extension": ".r",
   "mimetype": "text/x-r-source",
   "name": "R",
   "pygments_lexer": "r",
   "version": "3.3.2"
  }
 },
 "nbformat": 4,
 "nbformat_minor": 2
}
