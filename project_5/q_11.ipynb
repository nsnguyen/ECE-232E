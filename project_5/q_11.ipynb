{
 "cells": [
  {
   "cell_type": "code",
   "execution_count": 1,
   "metadata": {},
   "outputs": [],
   "source": [
    "# QUESTION 11: For each of the movies listed above, extract it's top 5 neighbors and also report\n",
    "# the community membership of the top 5 neighbors. In this question, the sorting is done based on\n",
    "# the edge weights."
   ]
  },
  {
   "cell_type": "code",
   "execution_count": 9,
   "metadata": {},
   "outputs": [],
   "source": [
    "library(igraph)\n",
    "library(ggplot2)\n",
    "library(hash)\n",
    "library(plyr)\n",
    "\n",
    "options(scipen = 999)"
   ]
  },
  {
   "cell_type": "code",
   "execution_count": 10,
   "metadata": {},
   "outputs": [],
   "source": [
    "g = read_graph(\"project4_data/q6_movies_weighted.txt\",format=\"ncol\", directed = FALSE)\n"
   ]
  },
  {
   "cell_type": "code",
   "execution_count": 11,
   "metadata": {},
   "outputs": [],
   "source": [
    "load(file='q7_cluster_fast_greedy.rda')"
   ]
  },
  {
   "cell_type": "code",
   "execution_count": 12,
   "metadata": {},
   "outputs": [
    {
     "name": "stderr",
     "output_type": "stream",
     "text": [
      "Warning message:\n",
      "“closing unused connection 4 (project4_data/index_movies_list.txt)”"
     ]
    }
   ],
   "source": [
    "movies = c('Batman v Superman: Dawn of Justice (2016)',\n",
    "           'Mission: Impossible - Rogue Nation (2015)',\n",
    "           'Minions (2015)')\n",
    "\n",
    "movie_ids = c('9301',\n",
    "            '35402',\n",
    "            '71445')\n",
    "\n",
    "movie_hash = hash()\n",
    "index_file = file('project4_data/index_movies_list.txt', 'r')\n",
    "index = 0\n",
    "while(TRUE){\n",
    "    line = readLines(index_file, n=1)\n",
    "    if(length(line) == 0){break}\n",
    "    \n",
    "    .set(movie_hash, index, substr(line, start = 11, stop = nchar(line)))\n",
    "    index = index + 1\n",
    "}\n"
   ]
  },
  {
   "cell_type": "code",
   "execution_count": 13,
   "metadata": {},
   "outputs": [],
   "source": [
    "find_neighbors = function(graph, movie_id, movie_neighbors){\n",
    "    pre_max_weight = 10 #weight shouldn't be more than 1 anyway..\n",
    "    all_index = c()\n",
    "    max_weights = c()\n",
    "    \n",
    "    for (i in 1:5){ #c(1:5)\n",
    "        current_max_weight = 0\n",
    "        current_neighbor_id = 0\n",
    "        \n",
    "        for (j in 1:length(movie_neighbors)){#length(movie_neighbors)\n",
    "            neighbor_movie_id = movie_neighbors[j]$name\n",
    "            \n",
    "            #find edge_id\n",
    "            edge_id = get.edge.ids(graph, c(movie_id, neighbor_movie_id),\n",
    "                                   directed = FALSE, multi = TRUE)\n",
    "\n",
    "            # find current weight for edge\n",
    "            current_weight = edge_attr(g, \"weight\", index = edge_id)\n",
    "                   \n",
    "            if((current_weight > current_max_weight) &\n",
    "               (current_weight <= pre_max_weight) &\n",
    "               (!(neighbor_movie_id %in% all_index))){\n",
    "                \n",
    "                current_max_weight = current_weight\n",
    "                current_neighbor_id = neighbor_movie_id\n",
    "            }\n",
    "        }\n",
    "        \n",
    "        all_index = c(all_index, current_neighbor_id)\n",
    "        max_weights = c(max_weights, current_max_weight)\n",
    "        pre_max_weight = current_max_weight\n",
    "        \n",
    "    }\n",
    "    \n",
    "    return(all_index)\n",
    "}\n",
    "\n",
    "\n",
    "\n",
    " "
   ]
  },
  {
   "cell_type": "code",
   "execution_count": 14,
   "metadata": {},
   "outputs": [
    {
     "name": "stdout",
     "output_type": "stream",
     "text": [
      "[1] \"====================================================\"\n",
      "[1] \"Batman v Superman: Dawn of Justice (2016)\"\n",
      "[1] \"9301\"\n",
      "[1] \"neighbors: 860\"\n",
      "[1] \"Movie: Eloise (2015) . Coummnity ID: 1\"\n",
      "[1] \"Movie: The Justice League Part One (2017) . Coummnity ID: 1\"\n",
      "[1] \"Movie: Into the Storm (2014) . Coummnity ID: 1\"\n",
      "[1] \"Movie: Love and Honor (2013) . Coummnity ID: 1\"\n",
      "[1] \"Movie: Man of Steel (2013) . Coummnity ID: 1\"\n",
      "[1] \"====================================================\"\n",
      "[1] \"Mission: Impossible - Rogue Nation (2015)\"\n",
      "[1] \"35402\"\n",
      "[1] \"neighbors: 647\"\n",
      "[1] \"Movie: Fan (2015) . Coummnity ID: 19\"\n",
      "[1] \"Movie: Phantom (2015) . Coummnity ID: 19\"\n",
      "[1] \"Movie: Breaking the Bank (2014) . Coummnity ID: 1\"\n",
      "[1] \"Movie: Suffragette (2015) . Coummnity ID: 1\"\n",
      "[1] \"Movie: Now You See Me: The Second Act (2016) . Coummnity ID: 1\"\n",
      "[1] \"====================================================\"\n",
      "[1] \"Minions (2015)\"\n",
      "[1] \"71445\"\n",
      "[1] \"neighbors: 656\"\n",
      "[1] \"Movie: The Lorax (2012) . Coummnity ID: 1\"\n",
      "[1] \"Movie: Inside Out (2015) . Coummnity ID: 1\"\n",
      "[1] \"Movie: Despicable Me 2 (2013) . Coummnity ID: 1\"\n",
      "[1] \"Movie: Horton Hears a Who! (2008) . Coummnity ID: 1\"\n",
      "[1] \"Movie: Gake no ue no Ponyo (2008) . Coummnity ID: 1\"\n"
     ]
    }
   ],
   "source": [
    "for(i in 1:length(movies)){ #length(movies)\n",
    "    print(paste('===================================================='))\n",
    "    movie_id = movie_ids[i]\n",
    "    print(movies[i])\n",
    "    print(paste(movie_id))\n",
    "    movie_neighbors = neighbors(g, movie_id)\n",
    "    print(paste('neighbors:', length(movie_neighbors)))\n",
    "    \n",
    "    all_neighbors = find_neighbors(g, movie_id, movie_neighbors)\n",
    "    movie_neighbor_id = 0\n",
    "        \n",
    "    for(idx in 1:length(all_neighbors)){\n",
    "        current_community_id = 0\n",
    "        for (community_id in 1:length(fg)){\n",
    "            if(all_neighbors[idx] %in% fg[[community_id]]){\n",
    "                current_community_id = community_id\n",
    "                movie_neighbor_id = all_neighbors[idx]\n",
    "                \n",
    "            }\n",
    "        }\n",
    "#         print(movie_neighbor_id)\n",
    "        print(paste('Movie:', movie_hash[[movie_neighbor_id]], '. Coummnity ID:', current_community_id))\n",
    "\n",
    "    }\n",
    "}"
   ]
  },
  {
   "cell_type": "code",
   "execution_count": null,
   "metadata": {},
   "outputs": [],
   "source": []
  },
  {
   "cell_type": "code",
   "execution_count": null,
   "metadata": {},
   "outputs": [],
   "source": []
  },
  {
   "cell_type": "code",
   "execution_count": null,
   "metadata": {},
   "outputs": [],
   "source": []
  },
  {
   "cell_type": "code",
   "execution_count": null,
   "metadata": {},
   "outputs": [],
   "source": []
  },
  {
   "cell_type": "code",
   "execution_count": null,
   "metadata": {},
   "outputs": [],
   "source": []
  },
  {
   "cell_type": "code",
   "execution_count": null,
   "metadata": {},
   "outputs": [],
   "source": []
  },
  {
   "cell_type": "code",
   "execution_count": null,
   "metadata": {},
   "outputs": [],
   "source": []
  },
  {
   "cell_type": "code",
   "execution_count": null,
   "metadata": {},
   "outputs": [],
   "source": []
  }
 ],
 "metadata": {
  "kernelspec": {
   "display_name": "R",
   "language": "R",
   "name": "ir"
  },
  "language_info": {
   "codemirror_mode": "r",
   "file_extension": ".r",
   "mimetype": "text/x-r-source",
   "name": "R",
   "pygments_lexer": "r",
   "version": "3.4.1"
  }
 },
 "nbformat": 4,
 "nbformat_minor": 2
}
