{
 "cells": [
  {
   "cell_type": "code",
   "execution_count": 1,
   "metadata": {},
   "outputs": [],
   "source": [
    "# QUESTION 11: For each of the movies listed above, extract it's top 5 neighbors and also report\n",
    "# the community membership of the top 5 neighbors. In this question, the sorting is done based on\n",
    "# the edge weights."
   ]
  },
  {
   "cell_type": "code",
   "execution_count": 2,
   "metadata": {},
   "outputs": [
    {
     "name": "stderr",
     "output_type": "stream",
     "text": [
      "\n",
      "Attaching package: ‘igraph’\n",
      "\n",
      "The following objects are masked from ‘package:stats’:\n",
      "\n",
      "    decompose, spectrum\n",
      "\n",
      "The following object is masked from ‘package:base’:\n",
      "\n",
      "    union\n",
      "\n",
      "hash-2.2.6 provided by Decision Patterns\n",
      "\n"
     ]
    }
   ],
   "source": [
    "library(igraph)\n",
    "library(ggplot2)\n",
    "library(hash)\n",
    "library(plyr)"
   ]
  },
  {
   "cell_type": "code",
   "execution_count": 3,
   "metadata": {},
   "outputs": [],
   "source": [
    "g = read_graph(\"project4_data/q6_movies_weighted.txt\",format=\"ncol\", directed = FALSE)\n"
   ]
  },
  {
   "cell_type": "code",
   "execution_count": 4,
   "metadata": {},
   "outputs": [],
   "source": [
    "load(file='q7_cluster_fast_greedy.rda')"
   ]
  },
  {
   "cell_type": "code",
   "execution_count": 5,
   "metadata": {},
   "outputs": [],
   "source": [
    "movies = c('Batman v Superman: Dawn of Justice (2016)',\n",
    "           'Mission: Impossible - Rogue Nation (2015)',\n",
    "           'Minions (2015)')\n",
    "\n",
    "movie_ids = c('9301',\n",
    "            '35402',\n",
    "            '71445')\n",
    "\n",
    "movie_hash = hash()\n",
    "index_file = file('project4_data/index_movies_list.txt', 'r')\n",
    "index = 0\n",
    "while(TRUE){\n",
    "    line = readLines(index_file, n=1)\n",
    "    if(length(line) == 0){break}\n",
    "    \n",
    "    .set(movie_hash, index, substr(line, start = 11, stop = nchar(line)))\n",
    "    index = index + 1\n",
    "}\n"
   ]
  },
  {
   "cell_type": "code",
   "execution_count": 86,
   "metadata": {},
   "outputs": [],
   "source": [
    "find_neighbors = function(graph, movie_id, movie_neighbors){\n",
    "    pre_max_weight = 10 #weight shouldn't be more than 1 anyway..\n",
    "    res_gra_index = c()\n",
    "    max_weights = c()\n",
    "    \n",
    "    for (i in 1:5){ #c(1:5)\n",
    "        current_max_weight = 0\n",
    "        current_neighbor_id = 0\n",
    "        \n",
    "        for (j in 1:length(movie_neighbors)){#length(movie_neighbors)\n",
    "            neighbor_movie_id = movie_neighbors[j]$name\n",
    "            \n",
    "            edge_id = get.edge.ids(graph, c(movie_id, neighbor_movie_id),\n",
    "                                   directed = FALSE, multi = TRUE)\n",
    "\n",
    "\n",
    "            \n",
    "            current_weight = edge_attr(g, \"weight\", index = edge_id)\n",
    "                   \n",
    "            if((current_weight > current_max_weight) &\n",
    "               (current_weight <= pre_max_weight) &\n",
    "               (!(neighbor_movie_id %in% res_gra_index))){\n",
    "                \n",
    "                current_max_weight = current_weight\n",
    "                current_neighbor_id = neighbor_movie_id\n",
    "            }\n",
    "        }\n",
    "        \n",
    "        res_gra_index = c(res_gra_index, current_neighbor_id)\n",
    "        max_weights = c(max_weights, current_max_weight)\n",
    "        pre_max_weight = current_max_weight\n",
    "        \n",
    "    }\n",
    "    \n",
    "    return(res_gra_index)\n",
    "}\n",
    "\n",
    "\n",
    "\n",
    " "
   ]
  },
  {
   "cell_type": "code",
   "execution_count": 87,
   "metadata": {},
   "outputs": [
    {
     "name": "stdout",
     "output_type": "stream",
     "text": [
      "[1] \"====================================================\"\n",
      "[1] \"Batman v Superman: Dawn of Justice (2016)\"\n",
      "[1] \"9301\"\n",
      "[1] \"neighbors: 860\"\n",
      "[1] \"3019\"\n",
      "[1] \"Movie: Man of Steel (2013) . Coummnity ID: 1\"\n",
      "[1] \"====================================================\"\n",
      "[1] \"Mission: Impossible - Rogue Nation (2015)\"\n",
      "[1] \"35402\"\n",
      "[1] \"neighbors: 647\"\n",
      "[1] \"35403\"\n",
      "[1] \"Movie: Now You See Me: The Second Act (2016) . Coummnity ID: 1\"\n",
      "[1] \"====================================================\"\n",
      "[1] \"Minions (2015)\"\n",
      "[1] \"71445\"\n",
      "[1] \"neighbors: 656\"\n",
      "[1] \"15099\"\n",
      "[1] \"Movie: Gake no ue no Ponyo (2008) . Coummnity ID: 1\"\n"
     ]
    }
   ],
   "source": [
    "for(i in 1:length(movies)){ #length(movies)\n",
    "    print(paste('===================================================='))\n",
    "    movie_id = movie_ids[i]\n",
    "    print(movies[i])\n",
    "    print(paste(movie_id))\n",
    "    movie_neighbors = neighbors(g, movie_id)\n",
    "    print(paste('neighbors:', length(movie_neighbors)))\n",
    "    \n",
    "    res_ori_idx = find_neighbors(g, movie_id, movie_neighbors)\n",
    "    movie_neighbor_id = 0\n",
    "    \n",
    "#     print(res_ori_idx)\n",
    "    \n",
    "    for(idx in 1:length(res_ori_idx)){\n",
    "        current_community_id = 0\n",
    "        for (community_id in 1:length(fg)){\n",
    "            if(idx %in% fg[[community_id]]){\n",
    "                current_community_id = community_id\n",
    "                movie_neighbor_id = res_ori_idx[idx]\n",
    "                break\n",
    "            }\n",
    "        }\n",
    "    }\n",
    "    print(movie_neighbor_id)\n",
    "    print(paste('Movie:', movie_hash[[movie_neighbor_id]], '. Coummnity ID:', current_community_id))\n",
    "\n",
    "       \n",
    "\n",
    "}"
   ]
  },
  {
   "cell_type": "code",
   "execution_count": null,
   "metadata": {},
   "outputs": [],
   "source": []
  },
  {
   "cell_type": "code",
   "execution_count": null,
   "metadata": {},
   "outputs": [],
   "source": []
  },
  {
   "cell_type": "code",
   "execution_count": null,
   "metadata": {},
   "outputs": [],
   "source": []
  },
  {
   "cell_type": "code",
   "execution_count": null,
   "metadata": {},
   "outputs": [],
   "source": []
  },
  {
   "cell_type": "code",
   "execution_count": null,
   "metadata": {},
   "outputs": [],
   "source": []
  },
  {
   "cell_type": "code",
   "execution_count": null,
   "metadata": {},
   "outputs": [],
   "source": []
  },
  {
   "cell_type": "code",
   "execution_count": null,
   "metadata": {},
   "outputs": [],
   "source": []
  },
  {
   "cell_type": "code",
   "execution_count": null,
   "metadata": {},
   "outputs": [],
   "source": []
  }
 ],
 "metadata": {
  "kernelspec": {
   "display_name": "R",
   "language": "R",
   "name": "ir"
  },
  "language_info": {
   "codemirror_mode": "r",
   "file_extension": ".r",
   "mimetype": "text/x-r-source",
   "name": "R",
   "pygments_lexer": "r",
   "version": "3.4.1"
  }
 },
 "nbformat": 4,
 "nbformat_minor": 2
}
