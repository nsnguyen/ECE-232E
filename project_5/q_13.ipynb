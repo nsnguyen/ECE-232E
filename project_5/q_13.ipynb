{
 "cells": [
  {
   "cell_type": "code",
   "execution_count": 1,
   "metadata": {},
   "outputs": [
    {
     "name": "stderr",
     "output_type": "stream",
     "text": [
      "/home/syang127/anaconda3/lib/python3.6/site-packages/sklearn/ensemble/weight_boosting.py:29: DeprecationWarning: numpy.core.umath_tests is an internal NumPy module and should not be imported. It will be removed in a future NumPy release.\n",
      "  from numpy.core.umath_tests import inner1d\n"
     ]
    }
   ],
   "source": [
    "import matplotlib.pyplot as plt\n",
    "import numpy as np\n",
    "\n",
    "from sklearn.ensemble import RandomForestRegressor\n",
    "from sklearn.linear_model import LinearRegression\n",
    "from sklearn.metrics import mean_squared_error\n",
    "from sklearn.neural_network import MLPRegressor"
   ]
  },
  {
   "cell_type": "code",
   "execution_count": 2,
   "metadata": {},
   "outputs": [
    {
     "name": "stdout",
     "output_type": "stream",
     "text": [
      "0\n",
      "10000\n",
      "20000\n",
      "30000\n",
      "40000\n",
      "50000\n",
      "60000\n",
      "70000\n",
      "80000\n",
      "90000\n",
      "100000\n",
      "110000\n"
     ]
    }
   ],
   "source": [
    "# Generate a dictionary mapping each actor/actress to a set of movies to which they performed,\n",
    "# and generate a dictionary mapping each movie to a set of actors/actresses\n",
    "\n",
    "movie_to_cast_hash = {}\n",
    "cast_to_movies_hash = {}\n",
    "\n",
    "counter = 0\n",
    "with open('clean_cast_movies.txt','r') as cleansed:\n",
    "    counter = 0\n",
    "    for line in cleansed:\n",
    "        if counter % 10000 == 0:\n",
    "            print(\"%d\" % (counter))\n",
    "        line_split = line.split('\\t\\t')\n",
    "        for n,i in enumerate(line_split):\n",
    "            line_split[n] = line_split[n].rstrip()\n",
    "        movies = set(line_split[1:])\n",
    "        cast_name = line_split[0]\n",
    "        cast_to_movies_hash[cast_name] = movies\n",
    "        for m in movies:\n",
    "            if m not in movie_to_cast_hash.keys():\n",
    "                movie_to_cast_hash[m] = set ()\n",
    "            movie_to_cast_hash[m].add(cast_name)\n",
    "        counter += 1"
   ]
  },
  {
   "cell_type": "code",
   "execution_count": 3,
   "metadata": {},
   "outputs": [
    {
     "name": "stdout",
     "output_type": "stream",
     "text": [
      "$hort, Too\n",
      "-------------------------------------------\n",
      " {'Ghetto Physics (2010)', 'Rhyme & Reason (1997)', 'Uprising: Hip Hop and the LA Riots (2012)', 'Mac Dre: Legend of the Bay (2014)', 'Stop Pepper Palmer (2014)', 'Menace II Society (1993)', 'Pimpalation: Return of the Trill (2006)', 'Beats, Rhymes & Life: The Travels of a Tribe Called Quest (2011)', 'Townbiz (2010)', 'Porndogs: The Adventures of Sadie (2009)', 'Gangsta Rap: The Glockumentary (2007)', 'American Pimp (1999)'}\n",
      "\n",
      "2 Live Crew\n",
      "-------------------------------------------\n",
      " {\"2 Live Crew: C'mon Babe (1990)\", '2 Live Crew Feat. Ice-T: The Real One (1998)', 'The New 2 Live Crew: You Go Girl (1994)', 'Luke Feat. 2 Live Crew: Do the Bart (1990)', '2 Live Crew: The 2 Live Crew Mega Mix (1992)', \"2 Live Crew: Shake a Lil Somethin' (1996)\", 'A Family Underground (2009)', '2 Live Crew: Pop the Pussy (1991)', 'Luke Feat. 2 Live Crew: Banned in the U.S.A. (1990)', '2 Live Crew: Do the Damn Thing (1996)', '2 Live Crew: Me So Horny (1989)', '2 Live Crew: Do Wah Diddy Diddy (1988)', '2 Live Crew: Take It Off (2014)', '2 Live Crew: Yakety Yak (1988)', '2 Live Crew: Hoochie Mama (1995)', \"2 Live Crew: Move Somethin' (1988)\", '2 Live Crew Feat. KC of KC & the Sunshine Band and Freak Nasty: 2 Live Party (1998)', 'Luke Feat. 2 Live Crew: Mama Juanita (1990)', 'The New 2 Live Crew: Hell, Yeah (1994)', 'Flo Rida Feat. Sage the Gemini and Lookas: G.D.F.R. (2014)'}\n",
      "\n",
      "50 Cent\n",
      "-------------------------------------------\n",
      " {'Southpaw (2015)', 'Limelight (2011)', 'Caught in the Crossfire (2010)', 'How to Make Money Selling Drugs (2012)', 'Jekyll and Hyde (2010)', 'All Things Fall Apart (2011)', 'Spy (2015)', '50 Cent: Bulletproof (2005)', 'Twelve (2010)', 'E! Buzz with Carla B (2011)', 'Righteous Kill (2008)', 'Beef (2003)', 'Live! (2007)', 'Home of the Brave (2006)', 'Dead Man Running (2009)', 'The Prince (2014)', 'Call of Duty: Modern Warfare 2 (2009)', 'Champs (2015)', 'The Frozen Ground (2013)', '50 Cent: Blood on the Sand (2009)', 'The Dance (2010)', 'The Ski Mask Way (2010)', 'Gun (2010)', 'Not Afraid: The Shady Records Story (2015)', \"Keenan Cahill's story (2012)\", 'Last Vegas (2013)', 'Escape Plan (2013)', 'Lockdown, USA (2006)', 'Money, Power, Respect: Hip Hop Billion Dollar Industry (2012)', 'Setup (2011/I)', \"Jack's Law (2006)\", \"Get Rich or Die Tryin' (2005)\", 'Freelancers (2012)', 'Fire with Fire (2012/II)', 'Morning Glory (2010)', '13 (2010/I)', 'Rap Therapy (2009)', 'The Best of: BlacksInActionTV.Com (2010)', 'Aruba International Film Festival (2011)'}\n",
      "\n"
     ]
    }
   ],
   "source": [
    "# Sanity check for actors -> set of movies\n",
    "for n,i in enumerate(cast_to_movies_hash.keys()):\n",
    "    if n > 2:\n",
    "        break\n",
    "    print(\"%s\\n-------------------------------------------\\n %s\\n\" %(i,cast_to_movies_hash[i]))"
   ]
  },
  {
   "cell_type": "code",
   "execution_count": 4,
   "metadata": {},
   "outputs": [
    {
     "name": "stdout",
     "output_type": "stream",
     "text": [
      "Ghetto Physics (2010)\n",
      "-------------------------------------------\n",
      " {'McKinney, Cynthia', 'Ice-T', 'Hayes, Janeline', 'Duong, Alex (I)', 'Lear, Norman', 'Garza, Leslie', '$hort, Too', 'Davis, Eurydice', 'Revelle, Sabrina', 'Reed, Shanequa', 'West, Cornel', 'KRS-One', 'LeGault, Mary', 'Koppel, Kellie', 'Ward, Vincent M.', 'Foy, Mike (I)', 'LÃ³pez, Eder'}\n",
      "\n",
      "Rhyme & Reason (1997)\n",
      "-------------------------------------------\n",
      " {'P, Master', 'Blow, Kurtis', 'Combs, Sean', 'Mack 10', 'Rhymes, Busta', 'Ice-T', 'D., Chuck', 'Man, Method', 'Q-Tip (I)', 'Raekwon', 'Reyes, Senen', 'Nas', 'RZA', 'Notorious B.I.G., The', '$hort, Too', 'Heavy D (I)', 'E-40', 'KRS-One', 'Dr. Dre', 'Hill, Lauryn', 'Redman', 'B-Real', 'Shakur, Tupac', 'Caz, Grandmaster', 'Jean, Wyclef'}\n",
      "\n",
      "Uprising: Hip Hop and the LA Riots (2012)\n",
      "-------------------------------------------\n",
      " {'Nas', 'Ice-T', '$hort, Too', 'Hall, Arsenio', 'Kurupt', 'KRS-One', 'Cube, Ice', 'Singleton, John (I)'}\n",
      "\n"
     ]
    }
   ],
   "source": [
    "# Sanity check for actors -> set of movies\n",
    "for n,i in enumerate(movie_to_cast_hash.keys()):\n",
    "    if n > 2:\n",
    "        break\n",
    "    print(\"%s\\n-------------------------------------------\\n %s\\n\" %(i,movie_to_cast_hash[i]))"
   ]
  },
  {
   "cell_type": "code",
   "execution_count": 5,
   "metadata": {},
   "outputs": [
    {
     "name": "stdout",
     "output_type": "stream",
     "text": [
      "Bamma Maata Bangaru Baata (1990): 7.500000\n",
      "The 61st Annual Golden Globe Awards (2004): 5.100000\n",
      "Con la música a otra parte (1975): 3.400000\n",
      "Funeralii fericite (2013): 8.100000\n",
      "Zoom, Zoom, Superman! (1973): 5.600000\n",
      "Fever Lake (1996): 2.900000\n",
      "El aroma del Copal (1997): 4.200000\n",
      "The Time Machine (1978): 5.400000\n",
      "The Science of Doctor Who (2012): 8.200000\n",
      "Section 60: Arlington National Cemetery (2008): 7.300000\n",
      "Svobodna si. Odloci se. (2000): 6.700000\n"
     ]
    },
    {
     "data": {
      "image/png": "[encoded data removed]",
      "text/plain": [
       "<Figure size 432x288 with 1 Axes>"
      ]
     },
     "metadata": {},
     "output_type": "display_data"
    }
   ],
   "source": [
    "# Read in movie ratings\n",
    "movie_to_rating_hash = {}\n",
    "with open('movie_rating.txt','r',encoding = \"ISO-8859-1\") as f:\n",
    "    counter = 0\n",
    "    for line in f:\n",
    "        line_split = line.split('\\t\\t')\n",
    "        movie_title = line_split[0]\n",
    "        movie_rating = float(line_split[1])\n",
    "        movie_to_rating_hash[movie_title] = movie_rating\n",
    "        \n",
    "for n,i in enumerate(movie_to_rating_hash.keys()):\n",
    "    if n > 10:\n",
    "        break\n",
    "    print(\"%s: %f\" % (i,movie_to_rating_hash[i]))\n",
    "\n",
    "plt.hist(movie_to_rating_hash.values())\n",
    "plt.ylabel('Frequency')\n",
    "plt.xlabel('Rating')\n",
    "plt.title('Histogram of Movie Ratings')\n",
    "plt.show()"
   ]
  },
  {
   "cell_type": "code",
   "execution_count": 6,
   "metadata": {},
   "outputs": [],
   "source": [
    "# For each actor, calculate the mean rating of the movies they were in\n",
    "actor_ratings = {}\n",
    "for actor in cast_to_movies_hash.keys():\n",
    "    sum_rating = 0\n",
    "    movie_rating_count = 0\n",
    "    movies = cast_to_movies_hash[actor]\n",
    "    #rating_list = []\n",
    "    for movie in movies:\n",
    "        if movie in movie_to_rating_hash.keys():\n",
    "            #rating_list.append(movie_to_rating_hash[movie])\n",
    "            sum_rating += movie_to_rating_hash[movie]\n",
    "            movie_rating_count += 1\n",
    "    #rating_list = sorted(rating_list,reverse=True)\n",
    "    if movie_rating_count > 0:\n",
    "        mean_rating = sum_rating / (movie_rating_count)\n",
    "        actor_ratings[actor] = mean_rating"
   ]
  },
  {
   "cell_type": "code",
   "execution_count": 7,
   "metadata": {},
   "outputs": [
    {
     "name": "stdout",
     "output_type": "stream",
     "text": [
      "$hort, Too: 6.511111\n",
      "2 Live Crew: 5.900000\n",
      "50 Cent: 6.003226\n",
      "A., Sergey: 7.588462\n",
      "A.S., Alwi: 2.000000\n",
      "A.V., Subba Rao: 6.822222\n",
      "Aabel, Per (I): 6.160000\n",
      "Aaker, Lee: 6.616667\n",
      "Aaltonen, Kosti: 5.341667\n",
      "Aaltonen, Remu: 5.685714\n",
      "Aaltonen, Risto: 5.373333\n"
     ]
    },
    {
     "data": {
      "image/png": "[encoded data removed]",
      "text/plain": [
       "<Figure size 432x288 with 1 Axes>"
      ]
     },
     "metadata": {},
     "output_type": "display_data"
    }
   ],
   "source": [
    "# Sanity check to visualize actor weights\n",
    "for n,i in enumerate(actor_ratings.keys()):\n",
    "    if n > 10:\n",
    "        break\n",
    "    print(\"%s: %f\" %(i,actor_ratings[i]))\n",
    "    \n",
    "plt.hist(actor_ratings.values())\n",
    "plt.ylabel('Frequency')\n",
    "plt.xlabel('Average Movie Rating of Actor')\n",
    "plt.title('Histogram of Averaged Actor Ratings')\n",
    "plt.show()"
   ]
  },
  {
   "cell_type": "code",
   "execution_count": 8,
   "metadata": {},
   "outputs": [],
   "source": [
    "# Now for each movie, generate a list of each actor's \"weight\"\n",
    "movie_to_actor_weights = {}\n",
    "\n",
    "for n,movie in enumerate(movie_to_cast_hash.keys()):\n",
    "#     if n < 10000:\n",
    "#         break\n",
    "    weights = []\n",
    "    for actor in movie_to_cast_hash[movie]:\n",
    "        if actor in actor_ratings.keys():\n",
    "            weights.append(actor_ratings[actor])\n",
    "    if len(weights) > 4:\n",
    "        movie_to_actor_weights[movie] = sorted(weights,reverse=True)\n"
   ]
  },
  {
   "cell_type": "code",
   "execution_count": 9,
   "metadata": {},
   "outputs": [
    {
     "name": "stdout",
     "output_type": "stream",
     "text": [
      "Ghetto Physics (2010): [7.5875, 6.9423076923076925, 6.8625, 6.847619047619046, 6.800000000000002, 6.542857142857144, 6.511111111111111, 6.388888888888888, 6.2727272727272725, 5.970000000000001, 5.841772151898736, 5.7375, 5.685714285714286, 5.657894736842106, 5.377777777777777, 5.152941176470589, 5.139999999999999]\n",
      "\n",
      "Rhyme & Reason (1997): [7.25, 7.041666666666665, 7.03030303030303, 6.894444444444444, 6.862499999999999, 6.847619047619046, 6.779999999999999, 6.536363636363639, 6.53529411764706, 6.529411764705881, 6.511111111111111, 6.379999999999999, 6.343750000000001, 6.338461538461539, 6.279999999999999, 6.258823529411765, 6.233333333333333, 6.2125, 6.126666666666666, 6.1000000000000005, 6.066666666666665, 5.841772151898736, 5.7700000000000005, 5.604545454545453, 5.339999999999999]\n",
      "\n",
      "Uprising: Hip Hop and the LA Riots (2012): [6.9818181818181815, 6.847619047619046, 6.806666666666667, 6.529411764705881, 6.511111111111111, 5.956410256410258, 5.841772151898736, 5.01]\n",
      "\n",
      "Mac Dre: Legend of the Bay (2014): [6.511111111111111, 6.185714285714285, 5.7700000000000005, 5.3375, 5.24]\n",
      "\n",
      "Stop Pepper Palmer (2014): [7.233333333333334, 6.511111111111111, 6.307142857142858, 6.245454545454546, 5.871428571428571, 5.7875, 5.533333333333334, 5.3999999999999995, 5.15, 5.15]\n",
      "\n",
      "Menace II Society (1993): [6.972222222222222, 6.847286821705423, 6.62, 6.6, 6.515328467153287, 6.511111111111111, 6.4125, 6.384615384615385, 6.373076923076923, 6.36, 6.354545454545454, 6.311764705882353, 6.3, 6.247272727272727, 6.175757575757574, 6.16190476190476, 6.0375000000000005, 5.992307692307692, 5.792857142857144, 5.756249999999999, 5.615, 5.496774193548387, 5.425000000000001, 5.365882352941178, 5.335]\n",
      "\n",
      "Beats, Rhymes & Life: The Travels of a Tribe Called Quest (2011): [7.192307692307693, 7.117241379310344, 6.9875, 6.981818181818183, 6.946153846153847, 6.802857142857144, 6.731578947368422, 6.716666666666667, 6.644444444444444, 6.511764705882353, 6.511111111111111, 6.433333333333334, 6.400000000000001, 6.38, 6.343750000000001, 6.269230769230769, 6.233333333333333, 6.164705882352941, 6.142307692307693, 6.124615384615386, 5.957142857142857]\n",
      "\n",
      "Porndogs: The Adventures of Sadie (2009): [6.752941176470587, 6.511111111111111, 6.311111111111111, 6.1071844660194134, 5.871428571428571, 5.812499999999999, 5.733333333333334, 5.718181818181819, 5.366666666666665, 5.291666666666667]\n",
      "\n",
      "Gangsta Rap: The Glockumentary (2007): [6.511111111111111, 6.433333333333332, 6.154545454545455, 5.679999999999999, 5.365882352941178, 5.359999999999999, 5.18, 4.790909090909092]\n",
      "\n",
      "American Pimp (1999): [6.8966666666666665, 6.576923076923077, 6.512, 6.511111111111111, 6.155555555555556, 6.084210526315789, 5.839655172413794, 5.58235294117647, 5.53]\n",
      "\n",
      "2 Live Crew: Yakety Yak (1988): [6.131250000000001, 6.119780219780221, 6.1000000000000005, 5.9, 5.9, 5.8]\n",
      "\n"
     ]
    }
   ],
   "source": [
    "for n,i in enumerate(movie_to_actor_weights.keys()):\n",
    "    if n > 10:\n",
    "        break\n",
    "    print(i + \": \" + str(movie_to_actor_weights[i]) + \"\\n\")"
   ]
  },
  {
   "cell_type": "code",
   "execution_count": 38,
   "metadata": {},
   "outputs": [],
   "source": [
    "# Get max, 75th quartiles, median, 25th, and min\n",
    "def get_100_75_50_25_0(sorted_weights):\n",
    "    quartiles = np.zeros((4,))\n",
    "    quartiles[0] = np.mean(sorted_weights)\n",
    "    quartiles[1] = sorted_weights[round(len(sorted_weights)/4)]\n",
    "    quartiles[2] = sorted_weights[round(len(sorted_weights)/2)]\n",
    "    quartiles[3] = sorted_weights[round(3*len(sorted_weights)/4)]\n",
    "    return quartiles\n",
    "\n",
    "def get_100_75_50_25(sorted_weights):\n",
    "    feature_vector = np.zeros((5,))\n",
    "    feature_vector[0] = np.mean(sorted_weights)\n",
    "    feature_vector[1] = sorted_weights[0] # max\n",
    "    feature_vector[2] = sorted_weights[round(len(sorted_weights)/4)] # 75th\n",
    "    feature_vector[3] = sorted_weights[round(len(sorted_weights)/2)] # median\n",
    "    feature_vector[4] = sorted_weights[round(3*len(sorted_weights)/4)] # 25th\n",
    "    return feature_vector\n",
    "\n",
    "movie_list = list(movie_to_rating_hash.keys())\n",
    "\n",
    "data_matrix = np.zeros((len(movie_to_rating_hash),5))\n",
    "n = 0\n",
    "for movie in movie_list:\n",
    "    if movie in movie_to_actor_weights:\n",
    "        weights = movie_to_actor_weights[movie]\n",
    "        feature_vector = get_100_75_50_25_0(weights)\n",
    "        data_matrix[n,0:len(feature_vector)] = feature_vector\n",
    "        data_matrix[n,-1] = movie_to_rating_hash[movie]\n",
    "        n+=1\n",
    "\n",
    "data_matrix = data_matrix[:n,:]\n",
    "split_index = round(0.8*len(data_matrix))\n",
    "training_matrix = data_matrix[:split_index,:]\n",
    "validation_matrix = data_matrix[split_index:,:]"
   ]
  },
  {
   "cell_type": "code",
   "execution_count": 42,
   "metadata": {},
   "outputs": [
    {
     "data": {
      "text/plain": [
       "(23639, 5)"
      ]
     },
     "execution_count": 42,
     "metadata": {},
     "output_type": "execute_result"
    }
   ],
   "source": [
    "validation_matrix.shape"
   ]
  },
  {
   "cell_type": "code",
   "execution_count": 40,
   "metadata": {},
   "outputs": [],
   "source": [
    "def get_movie_weights(movie_title):\n",
    "    actor_set = movie_to_cast_hash[movie_title]\n",
    "    weights = []\n",
    "    for actor in actor_set:\n",
    "        if actor in actor_ratings.keys():\n",
    "            weights.append(actor_ratings[actor])\n",
    "    weights = sorted(weights,reverse=True)\n",
    "    feature_vector = get_100_75_50_25_0(weights)\n",
    "    return feature_vector"
   ]
  },
  {
   "cell_type": "code",
   "execution_count": 48,
   "metadata": {},
   "outputs": [
    {
     "name": "stdout",
     "output_type": "stream",
     "text": [
      "Train RMSE: 0.942210\n",
      "Batman Prediction: 6.716945\n",
      "Mission Impossible Prediction: 6.651890\n",
      "Minions Prediction: 7.267045\n"
     ]
    }
   ],
   "source": [
    "linear_model = LinearRegression()\n",
    "linear_model.fit(X=training_matrix[:,:-1],y=training_matrix[:,-1])\n",
    "\n",
    "rmse = mean_squared_error(training_matrix[:,-1], linear_model.predict(training_matrix[:,:-1]))\n",
    "validation_rmse = mean_squared_error(validation_matrix[:,-1], linear_model.predict(validation_matrix[:,:-1]))\n",
    "print(\"Train RMSE: %f\" % rmse)\n",
    "\n",
    "batman_pred = linear_model.predict([get_movie_weights('Batman v Superman: Dawn of Justice (2016)')])[0]\n",
    "mission_imp_pred = linear_model.predict([get_movie_weights('Mission: Impossible - Rogue Nation (2015)')])[0]\n",
    "minions_pred = linear_model.predict([get_movie_weights('Minions (2015)')])[0]\n",
    "\n",
    "truth_ratings = np.array([6.6,7.4,6.4])\n",
    "predicted_ratings = np.array([batman_pred,mission_imp_pred,minions_pred])\n",
    "rmse = mean_squared_error(truth_ratings, predicted_ratings)\n",
    "print(\"Batman Prediction: %f\" % batman_pred)\n",
    "print(\"Mission Impossible Prediction: %f\" % mission_imp_pred)\n",
    "print(\"Minions Prediction: %f\" % minions_pred)"
   ]
  },
  {
   "cell_type": "code",
   "execution_count": null,
   "metadata": {},
   "outputs": [],
   "source": []
  }
 ],
 "metadata": {
  "kernelspec": {
   "display_name": "Python 3",
   "language": "python",
   "name": "python3"
  },
  "language_info": {
   "codemirror_mode": {
    "name": "ipython",
    "version": 3
   },
   "file_extension": ".py",
   "mimetype": "text/x-python",
   "name": "python",
   "nbconvert_exporter": "python",
   "pygments_lexer": "ipython3",
   "version": "3.6.6"
  }
 },
 "nbformat": 4,
 "nbformat_minor": 2
}
