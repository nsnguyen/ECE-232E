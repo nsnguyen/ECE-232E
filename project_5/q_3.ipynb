{
 "cells": [
  {
   "cell_type": "code",
   "execution_count": 1,
   "metadata": {},
   "outputs": [],
   "source": [
    "# QUESTION 3: Design a simple algorithm to find the actor pairings. To be specific, your algorithm\n",
    "# should take as input one of the actors listed above and should return the name of the actor with\n",
    "# whom the input actor prefers to work the most. Run your algorithm for the actors listed above\n",
    "# and report the actor names returned by your algorithm. Also for each pair, report the (input actor,\n",
    "# output actor) edge weight. Does all the actor pairing make sense?\n",
    "\n",
    "\n",
    "# find max out edge weight."
   ]
  },
  {
   "cell_type": "code",
   "execution_count": 1,
   "metadata": {},
   "outputs": [
    {
     "name": "stderr",
     "output_type": "stream",
     "text": [
      "\n",
      "Attaching package: ‘igraph’\n",
      "\n",
      "The following objects are masked from ‘package:stats’:\n",
      "\n",
      "    decompose, spectrum\n",
      "\n",
      "The following object is masked from ‘package:base’:\n",
      "\n",
      "    union\n",
      "\n",
      "hash-2.2.6 provided by Decision Patterns\n",
      "\n"
     ]
    }
   ],
   "source": [
    "library(igraph)\n",
    "library(ggplot2)\n",
    "library(hash)\n"
   ]
  },
  {
   "cell_type": "code",
   "execution_count": 2,
   "metadata": {},
   "outputs": [],
   "source": [
    "g <- read.graph(\"project4_data/q1_weighted.txt\",format=\"ncol\",directed=TRUE)\n"
   ]
  },
  {
   "cell_type": "code",
   "execution_count": 3,
   "metadata": {},
   "outputs": [],
   "source": [
    "\n",
    "actors = c('Tom Cruise',\n",
    "           'Emma Watson (II)',\n",
    "           'George Clooney',\n",
    "           'Tom Hanks',\n",
    "           'Dwayne Johnson (I)',\n",
    "           'Johnny Depp',\n",
    "           'Will Smith (I)',\n",
    "           'Meryl Streep',\n",
    "           'Leonardo DiCaprio',\n",
    "           'Brad Pitt')\n",
    "\n",
    "#These ids are defined in q1_2_preprocess stage\n",
    "actor_ids = c('14500',\n",
    "            '111287',\n",
    "            '12809',\n",
    "            '27253',\n",
    "            '32384',\n",
    "            '16874',\n",
    "            '62766',\n",
    "            '107821',\n",
    "            '17281',\n",
    "            '53242')\n",
    "\n",
    "# setting name to index hash\n",
    "index_hash = hash() #because R does not have hash so we gotta import a hash package\n",
    "index_file = file('project4_data/index_name_list.txt', 'r')\n",
    "index = 0\n",
    "\n",
    "while(TRUE){\n",
    "    line = readLines(index_file, n=1)\n",
    "    if (length(line) == 0){break}\n",
    "    \n",
    "    #this is how you set a hash in R...\n",
    "    .set(index_hash, index, substr(line, start = 11, stop = nchar(line)))\n",
    "    index = index + 1    \n",
    "}\n",
    "\n",
    "\n"
   ]
  },
  {
   "cell_type": "code",
   "execution_count": 4,
   "metadata": {},
   "outputs": [],
   "source": [
    "find_max_weight = function(index, graph, actors, actor_ids, index_name_list){\n",
    "    print(paste('========================================================='))\n",
    "    print(paste('actor:',actors[index]))\n",
    "    print(paste('actor_id:',actor_ids[index]))\n",
    "    \n",
    "    #find all neighbors\n",
    "    # we want to find the edge that is the highest \n",
    "    actor_id = actor_ids[index]\n",
    "    actor_neighbors = neighbors(graph, actor_id, mode = c(\"out\"))\n",
    "    print(paste('neighbors:', length(actor_neighbors)))\n",
    "    max_weight = 0.0\n",
    "    neighbor_id = -1\n",
    "    \n",
    "    for (i in 1:length(actor_neighbors)){      \n",
    "        edge_id = get.edge.ids(graph, c(toString(actor_id), actor_neighbors[i]$name), directed = TRUE, multi = TRUE)\n",
    "        current_weight = edge_attr(graph, \"weight\", index = edge_id)\n",
    "        if(current_weight > max_weight){\n",
    "            max_weight = current_weight\n",
    "            neighbor_id = actor_neighbors[i]$name #set new neighbor ID\n",
    "        }\n",
    "        \n",
    "    }\n",
    "    print(paste('max neighbor_id:', neighbor_id))\n",
    "    print(paste('max neighbor_actor:', index_hash[[neighbor_id]]))\n",
    "    print(paste('max_weight:', max_weight))\n",
    "    \n",
    "    \n",
    "}"
   ]
  },
  {
   "cell_type": "code",
   "execution_count": 5,
   "metadata": {},
   "outputs": [
    {
     "name": "stdout",
     "output_type": "stream",
     "text": [
      "[1] \"=========================================================\"\n",
      "[1] \"actor: Tom Cruise\"\n",
      "[1] \"actor_id: 14500\"\n",
      "[1] \"neighbors: 1573\"\n",
      "[1] \"max neighbor_id: 92149\"\n",
      "[1] \"max neighbor_actor: Kidman, Nicole\"\n",
      "[1] \"max_weight: 0.192982456140351\"\n",
      "[1] \"=========================================================\"\n",
      "[1] \"actor: Emma Watson (II)\"\n",
      "[1] \"actor_id: 111287\"\n",
      "[1] \"neighbors: 411\"\n",
      "[1] \"max neighbor_id: 54776\"\n",
      "[1] \"max neighbor_actor: Radcliffe, Daniel\"\n",
      "[1] \"max_weight: 0.565217391304348\"\n",
      "[1] \"=========================================================\"\n",
      "[1] \"actor: George Clooney\"\n",
      "[1] \"actor_id: 12809\"\n",
      "[1] \"neighbors: 1509\"\n",
      "[1] \"max neighbor_id: 15206\"\n",
      "[1] \"max neighbor_actor: Damon, Matt\"\n",
      "[1] \"max_weight: 0.121212121212121\"\n",
      "[1] \"=========================================================\"\n",
      "[1] \"actor: Tom Hanks\"\n",
      "[1] \"actor_id: 27253\"\n",
      "[1] \"neighbors: 2023\"\n",
      "[1] \"max neighbor_id: 1193\"\n",
      "[1] \"max neighbor_actor: Allen, Tim (I)\"\n",
      "[1] \"max_weight: 0.103896103896104\"\n",
      "[1] \"=========================================================\"\n",
      "[1] \"actor: Dwayne Johnson (I)\"\n",
      "[1] \"actor_id: 32384\"\n",
      "[1] \"neighbors: 1306\"\n",
      "[1] \"max neighbor_id: 9512\"\n",
      "[1] \"max neighbor_actor: Calaway, Mark\"\n",
      "[1] \"max_weight: 0.231884057971014\"\n",
      "[1] \"=========================================================\"\n",
      "[1] \"actor: Johnny Depp\"\n",
      "[1] \"actor_id: 16874\"\n",
      "[1] \"neighbors: 2094\"\n",
      "[1] \"max neighbor_id: 78299\"\n",
      "[1] \"max neighbor_actor: Bonham Carter, Helena\"\n",
      "[1] \"max_weight: 0.0824742268041237\"\n",
      "[1] \"=========================================================\"\n",
      "[1] \"actor: Will Smith (I)\"\n",
      "[1] \"actor_id: 62766\"\n",
      "[1] \"neighbors: 1258\"\n",
      "[1] \"max neighbor_id: 21995\"\n",
      "[1] \"max neighbor_actor: Foster, Darrell\"\n",
      "[1] \"max_weight: 0.13953488372093\"\n",
      "[1] \"=========================================================\"\n",
      "[1] \"actor: Meryl Streep\"\n",
      "[1] \"actor_id: 107821\"\n",
      "[1] \"neighbors: 1556\"\n",
      "[1] \"max neighbor_id: 35361\"\n",
      "[1] \"max neighbor_actor: Kline, Kevin (I)\"\n",
      "[1] \"max_weight: 0.0645161290322581\"\n",
      "[1] \"=========================================================\"\n",
      "[1] \"actor: Leonardo DiCaprio\"\n",
      "[1] \"actor_id: 17281\"\n",
      "[1] \"neighbors: 1251\"\n",
      "[1] \"max neighbor_id: 60358\"\n",
      "[1] \"max neighbor_actor: Scorsese, Martin\"\n",
      "[1] \"max_weight: 0.111111111111111\"\n",
      "[1] \"=========================================================\"\n",
      "[1] \"actor: Brad Pitt\"\n",
      "[1] \"actor_id: 53242\"\n",
      "[1] \"neighbors: 1689\"\n",
      "[1] \"max neighbor_id: 12809\"\n",
      "[1] \"max neighbor_actor: Clooney, George\"\n",
      "[1] \"max_weight: 0.102941176470588\"\n"
     ]
    }
   ],
   "source": [
    "for (i in c(1:length(actors))) {\n",
    "    find_max_weight(i,g, actors, actor_ids, index_hash)\n",
    "}"
   ]
  },
  {
   "cell_type": "code",
   "execution_count": null,
   "metadata": {},
   "outputs": [],
   "source": []
  },
  {
   "cell_type": "code",
   "execution_count": null,
   "metadata": {},
   "outputs": [],
   "source": [
    "# find_max_weight(1,g, actors, actor_ids, index_hash)"
   ]
  },
  {
   "cell_type": "code",
   "execution_count": null,
   "metadata": {},
   "outputs": [],
   "source": []
  },
  {
   "cell_type": "code",
   "execution_count": null,
   "metadata": {},
   "outputs": [],
   "source": []
  },
  {
   "cell_type": "code",
   "execution_count": null,
   "metadata": {},
   "outputs": [],
   "source": []
  },
  {
   "cell_type": "code",
   "execution_count": null,
   "metadata": {},
   "outputs": [],
   "source": []
  },
  {
   "cell_type": "code",
   "execution_count": null,
   "metadata": {},
   "outputs": [],
   "source": []
  }
 ],
 "metadata": {
  "kernelspec": {
   "display_name": "R",
   "language": "R",
   "name": "ir"
  },
  "language_info": {
   "codemirror_mode": "r",
   "file_extension": ".r",
   "mimetype": "text/x-r-source",
   "name": "R",
   "pygments_lexer": "r",
   "version": "3.4.1"
  }
 },
 "nbformat": 4,
 "nbformat_minor": 2
}
