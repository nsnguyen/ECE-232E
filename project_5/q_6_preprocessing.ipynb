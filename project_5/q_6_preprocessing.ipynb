{
 "cells": [
  {
   "cell_type": "code",
   "execution_count": 2,
   "metadata": {},
   "outputs": [],
   "source": [
    "import os"
   ]
  },
  {
   "cell_type": "code",
   "execution_count": 1,
   "metadata": {},
   "outputs": [],
   "source": [
    "movie_hash = {}\n",
    "CLEANSED_PATH = 'project4_data/q1_cleansed.txt'\n",
    "\n",
    "with open(CLEANSED_PATH, 'r') as c:\n",
    "    for line in c:\n",
    "        movie_arry = line.split('\\t\\t')\n",
    "        \n",
    "        actor = movie_arry[0] # actor is always first..\n",
    "        for i in range(1, len(movie_arry)): #skip first element b/c it's an actor\n",
    "            if not movie_arry[i] in movie_hash:\n",
    "                movie_hash[movie_arry[i].strip()] = set () # initialize if empty\n",
    "            movie_hash[movie_arry[i].strip()].add(actor)\n",
    "            "
   ]
  },
  {
   "cell_type": "code",
   "execution_count": 2,
   "metadata": {},
   "outputs": [
    {
     "name": "stdout",
     "output_type": "stream",
     "text": [
      "463219\n"
     ]
    }
   ],
   "source": [
    "print(len(movie_hash))"
   ]
  },
  {
   "cell_type": "code",
   "execution_count": 3,
   "metadata": {},
   "outputs": [],
   "source": [
    "ready_to_pop = []\n",
    "for movie in movie_hash:\n",
    "    if len(movie_hash[movie]) < 5:\n",
    "        ready_to_pop.append(movie.strip())\n",
    "        # this array is for deleted movies..\n",
    "    "
   ]
  },
  {
   "cell_type": "code",
   "execution_count": 4,
   "metadata": {},
   "outputs": [
    {
     "name": "stdout",
     "output_type": "stream",
     "text": [
      "279662\n"
     ]
    }
   ],
   "source": [
    "# number of movies to remove\n",
    "print(len(ready_to_pop))"
   ]
  },
  {
   "cell_type": "code",
   "execution_count": 5,
   "metadata": {},
   "outputs": [],
   "source": [
    "# remove movies\n",
    "for i in ready_to_pop:\n",
    "    movie_hash.pop(i)"
   ]
  },
  {
   "cell_type": "code",
   "execution_count": 6,
   "metadata": {},
   "outputs": [
    {
     "name": "stdout",
     "output_type": "stream",
     "text": [
      "183557\n"
     ]
    }
   ],
   "source": [
    "# number of movie_hash left over\n",
    "print(len(movie_hash))"
   ]
  },
  {
   "cell_type": "code",
   "execution_count": 9,
   "metadata": {},
   "outputs": [],
   "source": [
    "index = 0\n",
    "movie_list = []\n",
    "actors_list = []\n",
    "with open('project4_data/index_movies_list.txt', 'w') as indexing:\n",
    "    for item in movie_hash:\n",
    "        indexing.write(str(index).ljust(10) + item + '\\n')\n",
    "        movie_list.append(item)\n",
    "        actors_list.append(movie_hash[item])\n",
    "        index += 1\n",
    "        \n",
    "        \n",
    "        "
   ]
  },
  {
   "cell_type": "code",
   "execution_count": 10,
   "metadata": {},
   "outputs": [],
   "source": [
    "with open('project4_data/q6_movies_weighted.txt', 'w') as weighted:\n",
    "    for i in range(len(movie_list) - 1):\n",
    "        for j in range(i+1, len(movie_list)): # we want undirected graph\n",
    "            intersection = actors_list[i].intersection(actors_list[j])\n",
    "            union = actors_list[i].union(actors_list[j])\n",
    "            current_weight = len(intersection) / len(union)\n",
    "            if current_weight > 1:\n",
    "                raise ValueError('Weight > 1')\n",
    "            if current_weight > 0.0:\n",
    "                weighted.write(str(i) + '\\t\\t' + str(j) + '\\t\\t' + str(current_weight) + '\\n')\n",
    "            \n",
    "                    \n",
    "                    \n",
    "                    "
   ]
  },
  {
   "cell_type": "code",
   "execution_count": 6,
   "metadata": {},
   "outputs": [],
   "source": [
    "with open('project4_data/movie_rating.txt','r', encoding=\"cp1252\") as rating, open('project4_data/movie_rating_fixed.txt','w', encoding=\"utf-8\") as fixed:\n",
    "    for item in rating:\n",
    "        fixed.write(item)\n",
    "    \n",
    "    \n",
    "    "
   ]
  },
  {
   "cell_type": "code",
   "execution_count": null,
   "metadata": {
    "collapsed": true
   },
   "outputs": [],
   "source": []
  }
 ],
 "metadata": {
  "kernelspec": {
   "display_name": "Python 3",
   "language": "python",
   "name": "python3"
  },
  "language_info": {
   "codemirror_mode": {
    "name": "ipython",
    "version": 3
   },
   "file_extension": ".py",
   "mimetype": "text/x-python",
   "name": "python",
   "nbconvert_exporter": "python",
   "pygments_lexer": "ipython3",
   "version": "3.6.5"
  }
 },
 "nbformat": 4,
 "nbformat_minor": 2
}
